{
 "cells": [
  {
   "cell_type": "markdown",
   "metadata": {},
   "source": [
    "<h1>PREDICTING USED CAR PRICE</h1>"
   ]
  },
  {
   "cell_type": "markdown",
   "metadata": {},
   "source": [
    "<h3>Importing the required Library</h3>"
   ]
  },
  {
   "cell_type": "code",
   "execution_count": 1,
   "metadata": {},
   "outputs": [],
   "source": [
    "import pandas as pd\n",
    "import numpy as np\n",
    "import missingno as msno\n",
    "import matplotlib.pyplot as plt\n",
    "from matplotlib import pyplot as plt\n",
    "from sklearn.tree import export_graphviz\n",
    "from mpl_toolkits.mplot3d import Axes3D\n",
    "import pydot\n",
    "from mpl_toolkits import mplot3d\n",
    "import seaborn as sns\n",
    "from sklearn import model_selection\n",
    "from sklearn.linear_model import LinearRegression\n",
    "from sklearn.linear_model import Ridge,RidgeCV\n",
    "from sklearn.linear_model import Lasso,LassoCV\n",
    "import xgboost as xgb\n",
    "from sklearn import linear_model\n",
    "from sklearn.linear_model import ElasticNet\n",
    "from sklearn.neighbors import KNeighborsRegressor\n",
    "from sklearn.tree import DecisionTreeRegressor\n",
    "from sklearn.svm import SVR\n",
    "from sklearn.ensemble import RandomForestRegressor\n",
    "from sklearn.metrics import r2_score\n",
    "from sklearn.metrics import pairwise_distances\n",
    "from sklearn import neighbors\n",
    "from sklearn.model_selection import train_test_split\n",
    "from sklearn.metrics import mean_squared_error as mse\n",
    "from math import sqrt\n",
    "sns.set_theme(style=\"darkgrid\")\n",
    "from sklearn import metrics\n",
    "plt.style.use('seaborn-dark')\n",
    "%matplotlib inline"
   ]
  },
  {
   "cell_type": "markdown",
   "metadata": {},
   "source": [
    "<h4>Reading the csv</h4>"
   ]
  },
  {
   "cell_type": "code",
   "execution_count": 2,
   "metadata": {},
   "outputs": [],
   "source": [
    "df = pd.read_csv('vehicles.csv')"
   ]
  },
  {
   "cell_type": "markdown",
   "metadata": {},
   "source": [
    "<h4>Viewing the first 5 rows</h4>"
   ]
  },
  {
   "cell_type": "code",
   "execution_count": 3,
   "metadata": {},
   "outputs": [
    {
     "data": {
      "text/html": [
       "<div>\n",
       "<style scoped>\n",
       "    .dataframe tbody tr th:only-of-type {\n",
       "        vertical-align: middle;\n",
       "    }\n",
       "\n",
       "    .dataframe tbody tr th {\n",
       "        vertical-align: top;\n",
       "    }\n",
       "\n",
       "    .dataframe thead th {\n",
       "        text-align: right;\n",
       "    }\n",
       "</style>\n",
       "<table border=\"1\" class=\"dataframe\">\n",
       "  <thead>\n",
       "    <tr style=\"text-align: right;\">\n",
       "      <th></th>\n",
       "      <th>id</th>\n",
       "      <th>url</th>\n",
       "      <th>region</th>\n",
       "      <th>region_url</th>\n",
       "      <th>price</th>\n",
       "      <th>year</th>\n",
       "      <th>manufacturer</th>\n",
       "      <th>model</th>\n",
       "      <th>condition</th>\n",
       "      <th>cylinders</th>\n",
       "      <th>...</th>\n",
       "      <th>size</th>\n",
       "      <th>type</th>\n",
       "      <th>paint_color</th>\n",
       "      <th>image_url</th>\n",
       "      <th>description</th>\n",
       "      <th>county</th>\n",
       "      <th>state</th>\n",
       "      <th>lat</th>\n",
       "      <th>long</th>\n",
       "      <th>posting_date</th>\n",
       "    </tr>\n",
       "  </thead>\n",
       "  <tbody>\n",
       "    <tr>\n",
       "      <th>0</th>\n",
       "      <td>7222695916</td>\n",
       "      <td>https://prescott.craigslist.org/cto/d/prescott...</td>\n",
       "      <td>prescott</td>\n",
       "      <td>https://prescott.craigslist.org</td>\n",
       "      <td>6000</td>\n",
       "      <td>NaN</td>\n",
       "      <td>NaN</td>\n",
       "      <td>NaN</td>\n",
       "      <td>NaN</td>\n",
       "      <td>NaN</td>\n",
       "      <td>...</td>\n",
       "      <td>NaN</td>\n",
       "      <td>NaN</td>\n",
       "      <td>NaN</td>\n",
       "      <td>NaN</td>\n",
       "      <td>NaN</td>\n",
       "      <td>NaN</td>\n",
       "      <td>az</td>\n",
       "      <td>NaN</td>\n",
       "      <td>NaN</td>\n",
       "      <td>NaN</td>\n",
       "    </tr>\n",
       "    <tr>\n",
       "      <th>1</th>\n",
       "      <td>7218891961</td>\n",
       "      <td>https://fayar.craigslist.org/ctd/d/bentonville...</td>\n",
       "      <td>fayetteville</td>\n",
       "      <td>https://fayar.craigslist.org</td>\n",
       "      <td>11900</td>\n",
       "      <td>NaN</td>\n",
       "      <td>NaN</td>\n",
       "      <td>NaN</td>\n",
       "      <td>NaN</td>\n",
       "      <td>NaN</td>\n",
       "      <td>...</td>\n",
       "      <td>NaN</td>\n",
       "      <td>NaN</td>\n",
       "      <td>NaN</td>\n",
       "      <td>NaN</td>\n",
       "      <td>NaN</td>\n",
       "      <td>NaN</td>\n",
       "      <td>ar</td>\n",
       "      <td>NaN</td>\n",
       "      <td>NaN</td>\n",
       "      <td>NaN</td>\n",
       "    </tr>\n",
       "    <tr>\n",
       "      <th>2</th>\n",
       "      <td>7221797935</td>\n",
       "      <td>https://keys.craigslist.org/cto/d/summerland-k...</td>\n",
       "      <td>florida keys</td>\n",
       "      <td>https://keys.craigslist.org</td>\n",
       "      <td>21000</td>\n",
       "      <td>NaN</td>\n",
       "      <td>NaN</td>\n",
       "      <td>NaN</td>\n",
       "      <td>NaN</td>\n",
       "      <td>NaN</td>\n",
       "      <td>...</td>\n",
       "      <td>NaN</td>\n",
       "      <td>NaN</td>\n",
       "      <td>NaN</td>\n",
       "      <td>NaN</td>\n",
       "      <td>NaN</td>\n",
       "      <td>NaN</td>\n",
       "      <td>fl</td>\n",
       "      <td>NaN</td>\n",
       "      <td>NaN</td>\n",
       "      <td>NaN</td>\n",
       "    </tr>\n",
       "    <tr>\n",
       "      <th>3</th>\n",
       "      <td>7222270760</td>\n",
       "      <td>https://worcester.craigslist.org/cto/d/west-br...</td>\n",
       "      <td>worcester / central MA</td>\n",
       "      <td>https://worcester.craigslist.org</td>\n",
       "      <td>1500</td>\n",
       "      <td>NaN</td>\n",
       "      <td>NaN</td>\n",
       "      <td>NaN</td>\n",
       "      <td>NaN</td>\n",
       "      <td>NaN</td>\n",
       "      <td>...</td>\n",
       "      <td>NaN</td>\n",
       "      <td>NaN</td>\n",
       "      <td>NaN</td>\n",
       "      <td>NaN</td>\n",
       "      <td>NaN</td>\n",
       "      <td>NaN</td>\n",
       "      <td>ma</td>\n",
       "      <td>NaN</td>\n",
       "      <td>NaN</td>\n",
       "      <td>NaN</td>\n",
       "    </tr>\n",
       "    <tr>\n",
       "      <th>4</th>\n",
       "      <td>7210384030</td>\n",
       "      <td>https://greensboro.craigslist.org/cto/d/trinit...</td>\n",
       "      <td>greensboro</td>\n",
       "      <td>https://greensboro.craigslist.org</td>\n",
       "      <td>4900</td>\n",
       "      <td>NaN</td>\n",
       "      <td>NaN</td>\n",
       "      <td>NaN</td>\n",
       "      <td>NaN</td>\n",
       "      <td>NaN</td>\n",
       "      <td>...</td>\n",
       "      <td>NaN</td>\n",
       "      <td>NaN</td>\n",
       "      <td>NaN</td>\n",
       "      <td>NaN</td>\n",
       "      <td>NaN</td>\n",
       "      <td>NaN</td>\n",
       "      <td>nc</td>\n",
       "      <td>NaN</td>\n",
       "      <td>NaN</td>\n",
       "      <td>NaN</td>\n",
       "    </tr>\n",
       "  </tbody>\n",
       "</table>\n",
       "<p>5 rows × 26 columns</p>\n",
       "</div>"
      ],
      "text/plain": [
       "           id                                                url  \\\n",
       "0  7222695916  https://prescott.craigslist.org/cto/d/prescott...   \n",
       "1  7218891961  https://fayar.craigslist.org/ctd/d/bentonville...   \n",
       "2  7221797935  https://keys.craigslist.org/cto/d/summerland-k...   \n",
       "3  7222270760  https://worcester.craigslist.org/cto/d/west-br...   \n",
       "4  7210384030  https://greensboro.craigslist.org/cto/d/trinit...   \n",
       "\n",
       "                   region                         region_url  price  year  \\\n",
       "0                prescott    https://prescott.craigslist.org   6000   NaN   \n",
       "1            fayetteville       https://fayar.craigslist.org  11900   NaN   \n",
       "2            florida keys        https://keys.craigslist.org  21000   NaN   \n",
       "3  worcester / central MA   https://worcester.craigslist.org   1500   NaN   \n",
       "4              greensboro  https://greensboro.craigslist.org   4900   NaN   \n",
       "\n",
       "  manufacturer model condition cylinders  ... size  type paint_color  \\\n",
       "0          NaN   NaN       NaN       NaN  ...  NaN   NaN         NaN   \n",
       "1          NaN   NaN       NaN       NaN  ...  NaN   NaN         NaN   \n",
       "2          NaN   NaN       NaN       NaN  ...  NaN   NaN         NaN   \n",
       "3          NaN   NaN       NaN       NaN  ...  NaN   NaN         NaN   \n",
       "4          NaN   NaN       NaN       NaN  ...  NaN   NaN         NaN   \n",
       "\n",
       "  image_url description county state lat long posting_date  \n",
       "0       NaN         NaN    NaN    az NaN  NaN          NaN  \n",
       "1       NaN         NaN    NaN    ar NaN  NaN          NaN  \n",
       "2       NaN         NaN    NaN    fl NaN  NaN          NaN  \n",
       "3       NaN         NaN    NaN    ma NaN  NaN          NaN  \n",
       "4       NaN         NaN    NaN    nc NaN  NaN          NaN  \n",
       "\n",
       "[5 rows x 26 columns]"
      ]
     },
     "execution_count": 3,
     "metadata": {},
     "output_type": "execute_result"
    }
   ],
   "source": [
    "df.head(5)"
   ]
  },
  {
   "cell_type": "markdown",
   "metadata": {},
   "source": [
    "**Droping some features that will not be of help**"
   ]
  },
  {
   "cell_type": "code",
   "execution_count": 4,
   "metadata": {},
   "outputs": [],
   "source": [
    "df = df.drop(columns=['id','posting_date','url','image_url', 'lat', 'county', 'long','state', 'region_url', 'description', 'region', 'VIN'], axis=1)"
   ]
  },
  {
   "cell_type": "markdown",
   "metadata": {},
   "source": [
    "<h4>View the info</h4>"
   ]
  },
  {
   "cell_type": "code",
   "execution_count": 5,
   "metadata": {},
   "outputs": [
    {
     "name": "stdout",
     "output_type": "stream",
     "text": [
      "<class 'pandas.core.frame.DataFrame'>\n",
      "RangeIndex: 426880 entries, 0 to 426879\n",
      "Data columns (total 14 columns):\n",
      " #   Column        Non-Null Count   Dtype  \n",
      "---  ------        --------------   -----  \n",
      " 0   price         426880 non-null  int64  \n",
      " 1   year          425675 non-null  float64\n",
      " 2   manufacturer  409234 non-null  object \n",
      " 3   model         421603 non-null  object \n",
      " 4   condition     252776 non-null  object \n",
      " 5   cylinders     249202 non-null  object \n",
      " 6   fuel          423867 non-null  object \n",
      " 7   odometer      422480 non-null  float64\n",
      " 8   title_status  418638 non-null  object \n",
      " 9   transmission  424324 non-null  object \n",
      " 10  drive         296313 non-null  object \n",
      " 11  size          120519 non-null  object \n",
      " 12  type          334022 non-null  object \n",
      " 13  paint_color   296677 non-null  object \n",
      "dtypes: float64(2), int64(1), object(11)\n",
      "memory usage: 45.6+ MB\n"
     ]
    }
   ],
   "source": [
    "df.info()"
   ]
  },
  {
   "cell_type": "markdown",
   "metadata": {},
   "source": [
    "<h4>The shape of our target (Price)</h4>"
   ]
  },
  {
   "cell_type": "code",
   "execution_count": 6,
   "metadata": {},
   "outputs": [
    {
     "data": {
      "text/plain": [
       "(32895, 14)"
      ]
     },
     "execution_count": 6,
     "metadata": {},
     "output_type": "execute_result"
    }
   ],
   "source": [
    "df[df.price == 0].shape"
   ]
  },
  {
   "cell_type": "markdown",
   "metadata": {},
   "source": [
    "<h4>The shape of the whole dataset</h4>"
   ]
  },
  {
   "cell_type": "code",
   "execution_count": 7,
   "metadata": {},
   "outputs": [
    {
     "data": {
      "text/plain": [
       "(426880, 14)"
      ]
     },
     "execution_count": 7,
     "metadata": {},
     "output_type": "execute_result"
    }
   ],
   "source": [
    "df.shape"
   ]
  },
  {
   "cell_type": "markdown",
   "metadata": {},
   "source": [
    "<h4>Visualizing Outliers</h4>"
   ]
  },
  {
   "cell_type": "code",
   "execution_count": 8,
   "metadata": {},
   "outputs": [
    {
     "data": {
      "text/plain": [
       "<AxesSubplot:>"
      ]
     },
     "execution_count": 8,
     "metadata": {},
     "output_type": "execute_result"
    },
    {
     "data": {
      "image/png": "[encoded data removed]",
      "text/plain": [
       "<Figure size 432x288 with 1 Axes>"
      ]
     },
     "metadata": {
      "needs_background": "light"
     },
     "output_type": "display_data"
    }
   ],
   "source": [
    "sns.heatmap(df.isnull(), cbar=False)"
   ]
  },
  {
   "cell_type": "code",
   "execution_count": 9,
   "metadata": {},
   "outputs": [
    {
     "data": {
      "text/plain": [
       "<AxesSubplot:>"
      ]
     },
     "execution_count": 9,
     "metadata": {},
     "output_type": "execute_result"
    },
    {
     "data": {
      "image/png": "[encoded data removed]",
      "text/plain": [
       "<Figure size 1800x720 with 2 Axes>"
      ]
     },
     "metadata": {
      "needs_background": "light"
     },
     "output_type": "display_data"
    }
   ],
   "source": [
    "msno.matrix(df)"
   ]
  },
  {
   "cell_type": "code",
   "execution_count": 10,
   "metadata": {},
   "outputs": [
    {
     "data": {
      "text/plain": [
       "<AxesSubplot:>"
      ]
     },
     "execution_count": 10,
     "metadata": {},
     "output_type": "execute_result"
    },
    {
     "data": {
      "image/png": "[encoded data removed]",
      "text/plain": [
       "<Figure size 1440x864 with 2 Axes>"
      ]
     },
     "metadata": {
      "needs_background": "light"
     },
     "output_type": "display_data"
    }
   ],
   "source": [
    "msno.heatmap(df)"
   ]
  },
  {
   "cell_type": "markdown",
   "metadata": {},
   "source": [
    "<h4>Summary of the number of Null values and its percentage with respect to each features</h4>"
   ]
  },
  {
   "cell_type": "code",
   "execution_count": 11,
   "metadata": {},
   "outputs": [
    {
     "data": {
      "text/html": [
       "<div>\n",
       "<style scoped>\n",
       "    .dataframe tbody tr th:only-of-type {\n",
       "        vertical-align: middle;\n",
       "    }\n",
       "\n",
       "    .dataframe tbody tr th {\n",
       "        vertical-align: top;\n",
       "    }\n",
       "\n",
       "    .dataframe thead th {\n",
       "        text-align: right;\n",
       "    }\n",
       "</style>\n",
       "<table border=\"1\" class=\"dataframe\">\n",
       "  <thead>\n",
       "    <tr style=\"text-align: right;\">\n",
       "      <th></th>\n",
       "      <th>null</th>\n",
       "      <th>percent</th>\n",
       "    </tr>\n",
       "  </thead>\n",
       "  <tbody>\n",
       "    <tr>\n",
       "      <th>size</th>\n",
       "      <td>30636100</td>\n",
       "      <td>71.767</td>\n",
       "    </tr>\n",
       "    <tr>\n",
       "      <th>cylinders</th>\n",
       "      <td>17767800</td>\n",
       "      <td>41.622</td>\n",
       "    </tr>\n",
       "    <tr>\n",
       "      <th>condition</th>\n",
       "      <td>17410400</td>\n",
       "      <td>40.785</td>\n",
       "    </tr>\n",
       "    <tr>\n",
       "      <th>drive</th>\n",
       "      <td>13056700</td>\n",
       "      <td>30.586</td>\n",
       "    </tr>\n",
       "    <tr>\n",
       "      <th>paint_color</th>\n",
       "      <td>13020300</td>\n",
       "      <td>30.501</td>\n",
       "    </tr>\n",
       "    <tr>\n",
       "      <th>type</th>\n",
       "      <td>9285800</td>\n",
       "      <td>21.753</td>\n",
       "    </tr>\n",
       "    <tr>\n",
       "      <th>manufacturer</th>\n",
       "      <td>1764600</td>\n",
       "      <td>4.134</td>\n",
       "    </tr>\n",
       "    <tr>\n",
       "      <th>title_status</th>\n",
       "      <td>824200</td>\n",
       "      <td>1.931</td>\n",
       "    </tr>\n",
       "    <tr>\n",
       "      <th>model</th>\n",
       "      <td>527700</td>\n",
       "      <td>1.236</td>\n",
       "    </tr>\n",
       "    <tr>\n",
       "      <th>odometer</th>\n",
       "      <td>440000</td>\n",
       "      <td>1.031</td>\n",
       "    </tr>\n",
       "    <tr>\n",
       "      <th>fuel</th>\n",
       "      <td>301300</td>\n",
       "      <td>0.706</td>\n",
       "    </tr>\n",
       "    <tr>\n",
       "      <th>transmission</th>\n",
       "      <td>255600</td>\n",
       "      <td>0.599</td>\n",
       "    </tr>\n",
       "    <tr>\n",
       "      <th>year</th>\n",
       "      <td>120500</td>\n",
       "      <td>0.282</td>\n",
       "    </tr>\n",
       "    <tr>\n",
       "      <th>price</th>\n",
       "      <td>0</td>\n",
       "      <td>0.000</td>\n",
       "    </tr>\n",
       "  </tbody>\n",
       "</table>\n",
       "</div>"
      ],
      "text/plain": [
       "                  null  percent\n",
       "size          30636100   71.767\n",
       "cylinders     17767800   41.622\n",
       "condition     17410400   40.785\n",
       "drive         13056700   30.586\n",
       "paint_color   13020300   30.501\n",
       "type           9285800   21.753\n",
       "manufacturer   1764600    4.134\n",
       "title_status    824200    1.931\n",
       "model           527700    1.236\n",
       "odometer        440000    1.031\n",
       "fuel            301300    0.706\n",
       "transmission    255600    0.599\n",
       "year            120500    0.282\n",
       "price                0    0.000"
      ]
     },
     "execution_count": 11,
     "metadata": {},
     "output_type": "execute_result"
    }
   ],
   "source": [
    "null_values=df.isnull().sum()\n",
    "null_values=pd.DataFrame(null_values,columns=['null'])\n",
    "i=1\n",
    "sum_total=len(df)\n",
    "null_values['percent']=null_values['null']/sum_total\n",
    "round(null_values*100,3).sort_values('percent',ascending=False)"
   ]
  },
  {
   "cell_type": "markdown",
   "metadata": {},
   "source": [
    "<h4>From the above we discovered that there are some of the features with very low percentage.</h4>"
   ]
  },
  {
   "cell_type": "code",
   "execution_count": 12,
   "metadata": {},
   "outputs": [],
   "source": [
    "# sns.displot(data=df, x=\"price\")"
   ]
  },
  {
   "cell_type": "markdown",
   "metadata": {},
   "source": [
    "Viewing outliers when comparing odometer with the price"
   ]
  },
  {
   "cell_type": "code",
   "execution_count": 13,
   "metadata": {},
   "outputs": [
    {
     "data": {
      "image/png": "[encoded data removed]",
      "text/plain": [
       "<Figure size 1152x576 with 1 Axes>"
      ]
     },
     "metadata": {
      "needs_background": "light"
     },
     "output_type": "display_data"
    }
   ],
   "source": [
    "fig, ax = plt.subplots(figsize=(16,8))\n",
    "ax.scatter(df['price'], df['odometer'])\n",
    "ax.set_xlabel('Price of car')\n",
    "ax.set_ylabel('Odometer')\n",
    "plt.show()"
   ]
  },
  {
   "cell_type": "code",
   "execution_count": 14,
   "metadata": {},
   "outputs": [
    {
     "data": {
      "image/png": "[encoded data removed]",
      "text/plain": [
       "<Figure size 432x288 with 1 Axes>"
      ]
     },
     "metadata": {
      "needs_background": "light"
     },
     "output_type": "display_data"
    }
   ],
   "source": [
    "ax = sns.boxplot(x=\"condition\", y=\"price\", data=df)"
   ]
  },
  {
   "cell_type": "markdown",
   "metadata": {},
   "source": [
    "<h2>Data Cleaning</h2>"
   ]
  },
  {
   "cell_type": "markdown",
   "metadata": {},
   "source": [
    "<h4>Describing the target(price)</h4>"
   ]
  },
  {
   "cell_type": "code",
   "execution_count": 15,
   "metadata": {},
   "outputs": [
    {
     "name": "stdout",
     "output_type": "stream",
     "text": [
      "254.40693228580142\n"
     ]
    },
    {
     "data": {
      "text/plain": [
       "count    4.268800e+05\n",
       "mean     7.519903e+04\n",
       "std      1.218228e+07\n",
       "min      0.000000e+00\n",
       "25%      5.900000e+03\n",
       "50%      1.395000e+04\n",
       "75%      2.648575e+04\n",
       "max      3.736929e+09\n",
       "Name: price, dtype: float64"
      ]
     },
     "execution_count": 15,
     "metadata": {},
     "output_type": "execute_result"
    }
   ],
   "source": [
    "print(df['price'].skew())\n",
    "df['price'].describe()"
   ]
  },
  {
   "cell_type": "markdown",
   "metadata": {},
   "source": [
    "<h4>Too high skewness, we have to drop some data to be able to avoid skewness</h4>"
   ]
  },
  {
   "cell_type": "markdown",
   "metadata": {},
   "source": [
    "<h4>Let us see the number of cars that has price above 150,000</h4>"
   ]
  },
  {
   "cell_type": "code",
   "execution_count": 16,
   "metadata": {},
   "outputs": [
    {
     "data": {
      "text/plain": [
       "(196, 14)"
      ]
     },
     "execution_count": 16,
     "metadata": {},
     "output_type": "execute_result"
    }
   ],
   "source": [
    "df[df.price > 150000].shape"
   ]
  },
  {
   "cell_type": "markdown",
   "metadata": {},
   "source": [
    "<h4>Let us see the number of cars that has price below 500</h4>"
   ]
  },
  {
   "cell_type": "code",
   "execution_count": 17,
   "metadata": {},
   "outputs": [
    {
     "data": {
      "text/plain": [
       "(42094, 14)"
      ]
     },
     "execution_count": 17,
     "metadata": {},
     "output_type": "execute_result"
    }
   ],
   "source": [
    "df[df.price < 500].shape"
   ]
  },
  {
   "cell_type": "markdown",
   "metadata": {},
   "source": [
    "<h4>Altogether, we have:</h4>"
   ]
  },
  {
   "cell_type": "code",
   "execution_count": 18,
   "metadata": {},
   "outputs": [
    {
     "data": {
      "text/plain": [
       "(384579, 14)"
      ]
     },
     "execution_count": 18,
     "metadata": {},
     "output_type": "execute_result"
    }
   ],
   "source": [
    "df=df[(df.price < 150000) & (df.price >= 500 )]\n",
    "df.shape"
   ]
  },
  {
   "cell_type": "markdown",
   "metadata": {},
   "source": [
    "<h4>Checking Odometer below 800</h4>"
   ]
  },
  {
   "cell_type": "code",
   "execution_count": 19,
   "metadata": {},
   "outputs": [
    {
     "data": {
      "text/plain": [
       "(7443, 14)"
      ]
     },
     "execution_count": 19,
     "metadata": {},
     "output_type": "execute_result"
    }
   ],
   "source": [
    "df[df.odometer < 800].shape"
   ]
  },
  {
   "cell_type": "markdown",
   "metadata": {},
   "source": [
    "<h4>Checking Odometer above 300,000</h4>"
   ]
  },
  {
   "cell_type": "code",
   "execution_count": 20,
   "metadata": {},
   "outputs": [
    {
     "data": {
      "text/html": [
       "<div>\n",
       "<style scoped>\n",
       "    .dataframe tbody tr th:only-of-type {\n",
       "        vertical-align: middle;\n",
       "    }\n",
       "\n",
       "    .dataframe tbody tr th {\n",
       "        vertical-align: top;\n",
       "    }\n",
       "\n",
       "    .dataframe thead th {\n",
       "        text-align: right;\n",
       "    }\n",
       "</style>\n",
       "<table border=\"1\" class=\"dataframe\">\n",
       "  <thead>\n",
       "    <tr style=\"text-align: right;\">\n",
       "      <th></th>\n",
       "      <th>price</th>\n",
       "      <th>year</th>\n",
       "      <th>manufacturer</th>\n",
       "      <th>model</th>\n",
       "      <th>condition</th>\n",
       "      <th>cylinders</th>\n",
       "      <th>fuel</th>\n",
       "      <th>odometer</th>\n",
       "      <th>title_status</th>\n",
       "      <th>transmission</th>\n",
       "      <th>drive</th>\n",
       "      <th>size</th>\n",
       "      <th>type</th>\n",
       "      <th>paint_color</th>\n",
       "    </tr>\n",
       "  </thead>\n",
       "  <tbody>\n",
       "    <tr>\n",
       "      <th>455</th>\n",
       "      <td>22500</td>\n",
       "      <td>1929.0</td>\n",
       "      <td>ford</td>\n",
       "      <td>NaN</td>\n",
       "      <td>NaN</td>\n",
       "      <td>NaN</td>\n",
       "      <td>gas</td>\n",
       "      <td>9999999.0</td>\n",
       "      <td>clean</td>\n",
       "      <td>automatic</td>\n",
       "      <td>NaN</td>\n",
       "      <td>NaN</td>\n",
       "      <td>NaN</td>\n",
       "      <td>NaN</td>\n",
       "    </tr>\n",
       "    <tr>\n",
       "      <th>527</th>\n",
       "      <td>5500</td>\n",
       "      <td>2001.0</td>\n",
       "      <td>ford</td>\n",
       "      <td>e350 van</td>\n",
       "      <td>fair</td>\n",
       "      <td>NaN</td>\n",
       "      <td>diesel</td>\n",
       "      <td>340000.0</td>\n",
       "      <td>clean</td>\n",
       "      <td>automatic</td>\n",
       "      <td>fwd</td>\n",
       "      <td>NaN</td>\n",
       "      <td>van</td>\n",
       "      <td>white</td>\n",
       "    </tr>\n",
       "    <tr>\n",
       "      <th>562</th>\n",
       "      <td>27990</td>\n",
       "      <td>2014.0</td>\n",
       "      <td>ram</td>\n",
       "      <td>2500 4x4</td>\n",
       "      <td>like new</td>\n",
       "      <td>6 cylinders</td>\n",
       "      <td>diesel</td>\n",
       "      <td>2222222.0</td>\n",
       "      <td>clean</td>\n",
       "      <td>automatic</td>\n",
       "      <td>4wd</td>\n",
       "      <td>full-size</td>\n",
       "      <td>truck</td>\n",
       "      <td>white</td>\n",
       "    </tr>\n",
       "    <tr>\n",
       "      <th>616</th>\n",
       "      <td>17990</td>\n",
       "      <td>2018.0</td>\n",
       "      <td>ford</td>\n",
       "      <td>edge sel</td>\n",
       "      <td>like new</td>\n",
       "      <td>6 cylinders</td>\n",
       "      <td>gas</td>\n",
       "      <td>1111111.0</td>\n",
       "      <td>clean</td>\n",
       "      <td>automatic</td>\n",
       "      <td>fwd</td>\n",
       "      <td>mid-size</td>\n",
       "      <td>SUV</td>\n",
       "      <td>blue</td>\n",
       "    </tr>\n",
       "    <tr>\n",
       "      <th>932</th>\n",
       "      <td>2900</td>\n",
       "      <td>1999.0</td>\n",
       "      <td>lexus</td>\n",
       "      <td>gs400</td>\n",
       "      <td>good</td>\n",
       "      <td>8 cylinders</td>\n",
       "      <td>gas</td>\n",
       "      <td>378000.0</td>\n",
       "      <td>clean</td>\n",
       "      <td>automatic</td>\n",
       "      <td>NaN</td>\n",
       "      <td>full-size</td>\n",
       "      <td>sedan</td>\n",
       "      <td>white</td>\n",
       "    </tr>\n",
       "    <tr>\n",
       "      <th>...</th>\n",
       "      <td>...</td>\n",
       "      <td>...</td>\n",
       "      <td>...</td>\n",
       "      <td>...</td>\n",
       "      <td>...</td>\n",
       "      <td>...</td>\n",
       "      <td>...</td>\n",
       "      <td>...</td>\n",
       "      <td>...</td>\n",
       "      <td>...</td>\n",
       "      <td>...</td>\n",
       "      <td>...</td>\n",
       "      <td>...</td>\n",
       "      <td>...</td>\n",
       "    </tr>\n",
       "    <tr>\n",
       "      <th>426306</th>\n",
       "      <td>4999</td>\n",
       "      <td>1999.0</td>\n",
       "      <td>ford</td>\n",
       "      <td>f350 crew cab</td>\n",
       "      <td>good</td>\n",
       "      <td>10 cylinders</td>\n",
       "      <td>gas</td>\n",
       "      <td>375400.0</td>\n",
       "      <td>clean</td>\n",
       "      <td>automatic</td>\n",
       "      <td>4wd</td>\n",
       "      <td>NaN</td>\n",
       "      <td>NaN</td>\n",
       "      <td>black</td>\n",
       "    </tr>\n",
       "    <tr>\n",
       "      <th>426377</th>\n",
       "      <td>8600</td>\n",
       "      <td>2005.0</td>\n",
       "      <td>ford</td>\n",
       "      <td>f350</td>\n",
       "      <td>good</td>\n",
       "      <td>8 cylinders</td>\n",
       "      <td>diesel</td>\n",
       "      <td>305000.0</td>\n",
       "      <td>clean</td>\n",
       "      <td>automatic</td>\n",
       "      <td>4wd</td>\n",
       "      <td>full-size</td>\n",
       "      <td>truck</td>\n",
       "      <td>blue</td>\n",
       "    </tr>\n",
       "    <tr>\n",
       "      <th>426449</th>\n",
       "      <td>5500</td>\n",
       "      <td>2013.0</td>\n",
       "      <td>ford</td>\n",
       "      <td>expedition el</td>\n",
       "      <td>NaN</td>\n",
       "      <td>NaN</td>\n",
       "      <td>gas</td>\n",
       "      <td>383000.0</td>\n",
       "      <td>clean</td>\n",
       "      <td>automatic</td>\n",
       "      <td>4wd</td>\n",
       "      <td>NaN</td>\n",
       "      <td>NaN</td>\n",
       "      <td>NaN</td>\n",
       "    </tr>\n",
       "    <tr>\n",
       "      <th>426505</th>\n",
       "      <td>8995</td>\n",
       "      <td>2016.0</td>\n",
       "      <td>ford</td>\n",
       "      <td>expedition el</td>\n",
       "      <td>NaN</td>\n",
       "      <td>6 cylinders</td>\n",
       "      <td>gas</td>\n",
       "      <td>388000.0</td>\n",
       "      <td>clean</td>\n",
       "      <td>automatic</td>\n",
       "      <td>4wd</td>\n",
       "      <td>NaN</td>\n",
       "      <td>NaN</td>\n",
       "      <td>NaN</td>\n",
       "    </tr>\n",
       "    <tr>\n",
       "      <th>426507</th>\n",
       "      <td>9500</td>\n",
       "      <td>2016.0</td>\n",
       "      <td>ford</td>\n",
       "      <td>expedition el</td>\n",
       "      <td>NaN</td>\n",
       "      <td>6 cylinders</td>\n",
       "      <td>gas</td>\n",
       "      <td>303000.0</td>\n",
       "      <td>clean</td>\n",
       "      <td>automatic</td>\n",
       "      <td>4wd</td>\n",
       "      <td>NaN</td>\n",
       "      <td>NaN</td>\n",
       "      <td>NaN</td>\n",
       "    </tr>\n",
       "  </tbody>\n",
       "</table>\n",
       "<p>2711 rows × 14 columns</p>\n",
       "</div>"
      ],
      "text/plain": [
       "        price    year manufacturer          model condition     cylinders  \\\n",
       "455     22500  1929.0         ford            NaN       NaN           NaN   \n",
       "527      5500  2001.0         ford       e350 van      fair           NaN   \n",
       "562     27990  2014.0          ram       2500 4x4  like new   6 cylinders   \n",
       "616     17990  2018.0         ford       edge sel  like new   6 cylinders   \n",
       "932      2900  1999.0        lexus          gs400      good   8 cylinders   \n",
       "...       ...     ...          ...            ...       ...           ...   \n",
       "426306   4999  1999.0         ford  f350 crew cab      good  10 cylinders   \n",
       "426377   8600  2005.0         ford           f350      good   8 cylinders   \n",
       "426449   5500  2013.0         ford  expedition el       NaN           NaN   \n",
       "426505   8995  2016.0         ford  expedition el       NaN   6 cylinders   \n",
       "426507   9500  2016.0         ford  expedition el       NaN   6 cylinders   \n",
       "\n",
       "          fuel   odometer title_status transmission drive       size   type  \\\n",
       "455        gas  9999999.0        clean    automatic   NaN        NaN    NaN   \n",
       "527     diesel   340000.0        clean    automatic   fwd        NaN    van   \n",
       "562     diesel  2222222.0        clean    automatic   4wd  full-size  truck   \n",
       "616        gas  1111111.0        clean    automatic   fwd   mid-size    SUV   \n",
       "932        gas   378000.0        clean    automatic   NaN  full-size  sedan   \n",
       "...        ...        ...          ...          ...   ...        ...    ...   \n",
       "426306     gas   375400.0        clean    automatic   4wd        NaN    NaN   \n",
       "426377  diesel   305000.0        clean    automatic   4wd  full-size  truck   \n",
       "426449     gas   383000.0        clean    automatic   4wd        NaN    NaN   \n",
       "426505     gas   388000.0        clean    automatic   4wd        NaN    NaN   \n",
       "426507     gas   303000.0        clean    automatic   4wd        NaN    NaN   \n",
       "\n",
       "       paint_color  \n",
       "455            NaN  \n",
       "527          white  \n",
       "562          white  \n",
       "616           blue  \n",
       "932          white  \n",
       "...            ...  \n",
       "426306       black  \n",
       "426377        blue  \n",
       "426449         NaN  \n",
       "426505         NaN  \n",
       "426507         NaN  \n",
       "\n",
       "[2711 rows x 14 columns]"
      ]
     },
     "execution_count": 20,
     "metadata": {},
     "output_type": "execute_result"
    }
   ],
   "source": [
    "df[df.odometer > 300000]"
   ]
  },
  {
   "cell_type": "markdown",
   "metadata": {},
   "source": [
    "<h4>Using the data of cars having Odometer between 800 to 300,000 and manufactured after 1980</h4>"
   ]
  },
  {
   "cell_type": "code",
   "execution_count": 21,
   "metadata": {},
   "outputs": [
    {
     "data": {
      "text/plain": [
       "(363512, 14)"
      ]
     },
     "execution_count": 21,
     "metadata": {},
     "output_type": "execute_result"
    }
   ],
   "source": [
    "df=df[(df.odometer < 300000) & (df.odometer > 1000)]\n",
    "df=df[df.year>1980]\n",
    "df.shape"
   ]
  },
  {
   "cell_type": "markdown",
   "metadata": {},
   "source": []
  },
  {
   "cell_type": "code",
   "execution_count": 22,
   "metadata": {},
   "outputs": [
    {
     "data": {
      "text/html": [
       "<div>\n",
       "<style scoped>\n",
       "    .dataframe tbody tr th:only-of-type {\n",
       "        vertical-align: middle;\n",
       "    }\n",
       "\n",
       "    .dataframe tbody tr th {\n",
       "        vertical-align: top;\n",
       "    }\n",
       "\n",
       "    .dataframe thead th {\n",
       "        text-align: right;\n",
       "    }\n",
       "</style>\n",
       "<table border=\"1\" class=\"dataframe\">\n",
       "  <thead>\n",
       "    <tr style=\"text-align: right;\">\n",
       "      <th></th>\n",
       "      <th>null</th>\n",
       "      <th>percent</th>\n",
       "    </tr>\n",
       "  </thead>\n",
       "  <tbody>\n",
       "    <tr>\n",
       "      <th>size</th>\n",
       "      <td>26139500</td>\n",
       "      <td>71.908</td>\n",
       "    </tr>\n",
       "    <tr>\n",
       "      <th>cylinders</th>\n",
       "      <td>14837000</td>\n",
       "      <td>40.816</td>\n",
       "    </tr>\n",
       "    <tr>\n",
       "      <th>condition</th>\n",
       "      <td>13741700</td>\n",
       "      <td>37.803</td>\n",
       "    </tr>\n",
       "    <tr>\n",
       "      <th>drive</th>\n",
       "      <td>10881200</td>\n",
       "      <td>29.934</td>\n",
       "    </tr>\n",
       "    <tr>\n",
       "      <th>paint_color</th>\n",
       "      <td>10317700</td>\n",
       "      <td>28.383</td>\n",
       "    </tr>\n",
       "    <tr>\n",
       "      <th>type</th>\n",
       "      <td>7519000</td>\n",
       "      <td>20.684</td>\n",
       "    </tr>\n",
       "    <tr>\n",
       "      <th>manufacturer</th>\n",
       "      <td>1123400</td>\n",
       "      <td>3.090</td>\n",
       "    </tr>\n",
       "    <tr>\n",
       "      <th>title_status</th>\n",
       "      <td>605200</td>\n",
       "      <td>1.665</td>\n",
       "    </tr>\n",
       "    <tr>\n",
       "      <th>model</th>\n",
       "      <td>336700</td>\n",
       "      <td>0.926</td>\n",
       "    </tr>\n",
       "    <tr>\n",
       "      <th>fuel</th>\n",
       "      <td>205700</td>\n",
       "      <td>0.566</td>\n",
       "    </tr>\n",
       "    <tr>\n",
       "      <th>transmission</th>\n",
       "      <td>143800</td>\n",
       "      <td>0.396</td>\n",
       "    </tr>\n",
       "    <tr>\n",
       "      <th>price</th>\n",
       "      <td>0</td>\n",
       "      <td>0.000</td>\n",
       "    </tr>\n",
       "    <tr>\n",
       "      <th>year</th>\n",
       "      <td>0</td>\n",
       "      <td>0.000</td>\n",
       "    </tr>\n",
       "    <tr>\n",
       "      <th>odometer</th>\n",
       "      <td>0</td>\n",
       "      <td>0.000</td>\n",
       "    </tr>\n",
       "  </tbody>\n",
       "</table>\n",
       "</div>"
      ],
      "text/plain": [
       "                  null  percent\n",
       "size          26139500   71.908\n",
       "cylinders     14837000   40.816\n",
       "condition     13741700   37.803\n",
       "drive         10881200   29.934\n",
       "paint_color   10317700   28.383\n",
       "type           7519000   20.684\n",
       "manufacturer   1123400    3.090\n",
       "title_status    605200    1.665\n",
       "model           336700    0.926\n",
       "fuel            205700    0.566\n",
       "transmission    143800    0.396\n",
       "price                0    0.000\n",
       "year                 0    0.000\n",
       "odometer             0    0.000"
      ]
     },
     "execution_count": 22,
     "metadata": {},
     "output_type": "execute_result"
    }
   ],
   "source": [
    "null_values=df.isnull().sum()\n",
    "null_values=pd.DataFrame(null_values,columns=['null'])\n",
    "i=1\n",
    "sum_tot=len(df)\n",
    "null_values['percent']=null_values['null']/sum_tot\n",
    "round(null_values*100,3).sort_values('percent',ascending=False)"
   ]
  },
  {
   "cell_type": "markdown",
   "metadata": {},
   "source": [
    "<h4>Now, Let us deal with the condition</h4>"
   ]
  },
  {
   "cell_type": "code",
   "execution_count": 23,
   "metadata": {},
   "outputs": [
    {
     "data": {
      "text/plain": [
       "137417"
      ]
     },
     "execution_count": 23,
     "metadata": {},
     "output_type": "execute_result"
    }
   ],
   "source": [
    "df['condition'].isnull().sum()"
   ]
  },
  {
   "cell_type": "markdown",
   "metadata": {},
   "source": [
    "<h4>Let us see the number of cars from 2016 and above</h4>"
   ]
  },
  {
   "cell_type": "code",
   "execution_count": 24,
   "metadata": {},
   "outputs": [
    {
     "data": {
      "text/plain": [
       "48891"
      ]
     },
     "execution_count": 24,
     "metadata": {},
     "output_type": "execute_result"
    }
   ],
   "source": [
    "df.loc[(df['year'] >= 2016)]['condition'].isnull().sum()"
   ]
  },
  {
   "cell_type": "code",
   "execution_count": 25,
   "metadata": {},
   "outputs": [
    {
     "data": {
      "text/plain": [
       "good         113573\n",
       "excellent     87289\n",
       "like new      18636\n",
       "fair           5486\n",
       "new             651\n",
       "salvage         460\n",
       "Name: condition, dtype: int64"
      ]
     },
     "execution_count": 25,
     "metadata": {},
     "output_type": "execute_result"
    }
   ],
   "source": [
    "df.condition.value_counts()"
   ]
  },
  {
   "cell_type": "markdown",
   "metadata": {},
   "source": [
    "<h4>Since we have very few new, we can categorize cars made from 2016 to 2018 as \"like new\" and 2018 above as \"new\"</h4>"
   ]
  },
  {
   "cell_type": "code",
   "execution_count": 26,
   "metadata": {},
   "outputs": [],
   "source": [
    "df.loc[df.year>=2018, 'condition'] = df.loc[df.year>=2018, 'condition'].fillna('new')\n",
    "df.loc[df.year>=2016, 'condition'] = df.loc[df.year>=2016, 'condition'].fillna('like new')"
   ]
  },
  {
   "cell_type": "markdown",
   "metadata": {},
   "source": [
    "**Counting all over again the values in conditions**"
   ]
  },
  {
   "cell_type": "code",
   "execution_count": 27,
   "metadata": {},
   "outputs": [
    {
     "data": {
      "text/plain": [
       "good         113573\n",
       "excellent     87289\n",
       "like new      42493\n",
       "new           25685\n",
       "fair           5486\n",
       "salvage         460\n",
       "Name: condition, dtype: int64"
      ]
     },
     "execution_count": 27,
     "metadata": {},
     "output_type": "execute_result"
    }
   ],
   "source": [
    "df.condition.value_counts()"
   ]
  },
  {
   "cell_type": "markdown",
   "metadata": {},
   "source": [
    "**Using Odometer to determine the condition**"
   ]
  },
  {
   "cell_type": "code",
   "execution_count": 28,
   "metadata": {},
   "outputs": [],
   "source": [
    "excellent_mean = df[df['condition'] == 'excellent']['odometer'].mean()\n",
    "good_mean = df[df['condition'] == 'good']['odometer'].mean()\n",
    "like_new_mean = df[df['condition'] == 'like new']['odometer'].mean()\n",
    "salvage_mean = df[df['condition'] == 'salvage']['odometer'].mean()\n",
    "fair_mean = df[df['condition'] == 'fair']['odometer'].mean()"
   ]
  },
  {
   "cell_type": "markdown",
   "metadata": {},
   "source": [
    "**Getting the average of condition using Odometer**"
   ]
  },
  {
   "cell_type": "code",
   "execution_count": 29,
   "metadata": {},
   "outputs": [
    {
     "name": "stdout",
     "output_type": "stream",
     "text": [
      "Like new average odometer: 76347.729\n",
      "Excellent average odometer: 108880.444\n",
      "Good average odometer: 76941.341\n",
      "Fair average odometer: 170183.571\n",
      "Salvage average odometer: 143181.03\n"
     ]
    }
   ],
   "source": [
    "print('Like new average odometer:', round( like_new_mean,3))\n",
    "print('Excellent average odometer:', round( excellent_mean,3))\n",
    "print('Good average odometer:', round( good_mean,3))\n",
    "print('Fair average odometer:', round( fair_mean,3))\n",
    "print('Salvage average odometer:', round( salvage_mean,3))"
   ]
  },
  {
   "cell_type": "markdown",
   "metadata": {},
   "source": [
    "**Now I can go ahead and fill up the condition with those values**"
   ]
  },
  {
   "cell_type": "code",
   "execution_count": 30,
   "metadata": {},
   "outputs": [],
   "source": [
    "\n",
    "df.loc[df['odometer'] <= like_new_mean, 'condition'] = df.loc[df['odometer'] <= like_new_mean, 'condition'].fillna('like new')\n",
    "\n",
    "df.loc[df['odometer'] >= fair_mean, 'condition'] = df.loc[df['odometer'] >= fair_mean, 'condition'].fillna('fair')\n",
    "\n",
    "df.loc[((df['odometer'] > like_new_mean) & \n",
    "       (df['odometer'] <= excellent_mean)), 'condition'] = df.loc[((df['odometer'] > like_new_mean) & \n",
    "       (df['odometer'] <= excellent_mean)), 'condition'].fillna('excellent')\n",
    "\n",
    "df.loc[((df['odometer'] > excellent_mean) & \n",
    "       (df['odometer'] <= good_mean)), 'condition'] = df.loc[((df['odometer'] > excellent_mean) & \n",
    "       (df['odometer'] <= good_mean)), 'condition'].fillna('good')\n",
    "\n",
    "df.loc[((df['odometer'] > good_mean) & \n",
    "       (df['odometer'] <= fair_mean)), 'condition'] = df.loc[((df['odometer'] > good_mean) & \n",
    "       (df['odometer'] <= fair_mean)), 'condition'].fillna('salvage')"
   ]
  },
  {
   "cell_type": "code",
   "execution_count": 31,
   "metadata": {},
   "outputs": [
    {
     "data": {
      "text/html": [
       "<div>\n",
       "<style scoped>\n",
       "    .dataframe tbody tr th:only-of-type {\n",
       "        vertical-align: middle;\n",
       "    }\n",
       "\n",
       "    .dataframe tbody tr th {\n",
       "        vertical-align: top;\n",
       "    }\n",
       "\n",
       "    .dataframe thead th {\n",
       "        text-align: right;\n",
       "    }\n",
       "</style>\n",
       "<table border=\"1\" class=\"dataframe\">\n",
       "  <thead>\n",
       "    <tr style=\"text-align: right;\">\n",
       "      <th></th>\n",
       "      <th>null</th>\n",
       "      <th>percent</th>\n",
       "    </tr>\n",
       "  </thead>\n",
       "  <tbody>\n",
       "    <tr>\n",
       "      <th>size</th>\n",
       "      <td>26139500</td>\n",
       "      <td>71.908</td>\n",
       "    </tr>\n",
       "    <tr>\n",
       "      <th>cylinders</th>\n",
       "      <td>14837000</td>\n",
       "      <td>40.816</td>\n",
       "    </tr>\n",
       "    <tr>\n",
       "      <th>drive</th>\n",
       "      <td>10881200</td>\n",
       "      <td>29.934</td>\n",
       "    </tr>\n",
       "    <tr>\n",
       "      <th>paint_color</th>\n",
       "      <td>10317700</td>\n",
       "      <td>28.383</td>\n",
       "    </tr>\n",
       "    <tr>\n",
       "      <th>type</th>\n",
       "      <td>7519000</td>\n",
       "      <td>20.684</td>\n",
       "    </tr>\n",
       "    <tr>\n",
       "      <th>manufacturer</th>\n",
       "      <td>1123400</td>\n",
       "      <td>3.090</td>\n",
       "    </tr>\n",
       "    <tr>\n",
       "      <th>title_status</th>\n",
       "      <td>605200</td>\n",
       "      <td>1.665</td>\n",
       "    </tr>\n",
       "    <tr>\n",
       "      <th>model</th>\n",
       "      <td>336700</td>\n",
       "      <td>0.926</td>\n",
       "    </tr>\n",
       "    <tr>\n",
       "      <th>fuel</th>\n",
       "      <td>205700</td>\n",
       "      <td>0.566</td>\n",
       "    </tr>\n",
       "    <tr>\n",
       "      <th>transmission</th>\n",
       "      <td>143800</td>\n",
       "      <td>0.396</td>\n",
       "    </tr>\n",
       "    <tr>\n",
       "      <th>price</th>\n",
       "      <td>0</td>\n",
       "      <td>0.000</td>\n",
       "    </tr>\n",
       "    <tr>\n",
       "      <th>year</th>\n",
       "      <td>0</td>\n",
       "      <td>0.000</td>\n",
       "    </tr>\n",
       "    <tr>\n",
       "      <th>condition</th>\n",
       "      <td>0</td>\n",
       "      <td>0.000</td>\n",
       "    </tr>\n",
       "    <tr>\n",
       "      <th>odometer</th>\n",
       "      <td>0</td>\n",
       "      <td>0.000</td>\n",
       "    </tr>\n",
       "  </tbody>\n",
       "</table>\n",
       "</div>"
      ],
      "text/plain": [
       "                  null  percent\n",
       "size          26139500   71.908\n",
       "cylinders     14837000   40.816\n",
       "drive         10881200   29.934\n",
       "paint_color   10317700   28.383\n",
       "type           7519000   20.684\n",
       "manufacturer   1123400    3.090\n",
       "title_status    605200    1.665\n",
       "model           336700    0.926\n",
       "fuel            205700    0.566\n",
       "transmission    143800    0.396\n",
       "price                0    0.000\n",
       "year                 0    0.000\n",
       "condition            0    0.000\n",
       "odometer             0    0.000"
      ]
     },
     "execution_count": 31,
     "metadata": {},
     "output_type": "execute_result"
    }
   ],
   "source": [
    "null_values=df.isnull().sum()\n",
    "null_values=pd.DataFrame(null_values,columns=['null'])\n",
    "i=1\n",
    "sum_tot=len(df)\n",
    "null_values['percent']=null_values['null']/sum_tot\n",
    "round(null_values*100,3).sort_values('percent',ascending=False)"
   ]
  },
  {
   "cell_type": "markdown",
   "metadata": {},
   "source": [
    "**We can use fillna for the rest of the features**"
   ]
  },
  {
   "cell_type": "code",
   "execution_count": 32,
   "metadata": {},
   "outputs": [],
   "source": [
    "df['transmission'] = df['transmission'].fillna(method='ffill')\n",
    "df['title_status'] = df['title_status'].fillna(method='ffill')\n",
    "df['fuel'] = df['fuel'].fillna(method='ffill')\n",
    "df['size'] = df['size'].fillna(method='ffill')\n",
    "df['paint_color'] = df['paint_color'].fillna(method='ffill')\n",
    "df['drive'] = df['drive'].fillna(method='ffill')\n",
    "df['manufacturer'] = df['manufacturer'].fillna(method='ffill')\n",
    "df['type'] = df['type'].fillna(method='ffill')\n",
    "df['model'] = df['model'].fillna(method='ffill')\n",
    "df['cylinders'] = df['cylinders'].fillna(method='ffill')"
   ]
  },
  {
   "cell_type": "markdown",
   "metadata": {},
   "source": [
    "**Checking the null details all over**"
   ]
  },
  {
   "cell_type": "code",
   "execution_count": 33,
   "metadata": {},
   "outputs": [
    {
     "data": {
      "text/html": [
       "<div>\n",
       "<style scoped>\n",
       "    .dataframe tbody tr th:only-of-type {\n",
       "        vertical-align: middle;\n",
       "    }\n",
       "\n",
       "    .dataframe tbody tr th {\n",
       "        vertical-align: top;\n",
       "    }\n",
       "\n",
       "    .dataframe thead th {\n",
       "        text-align: right;\n",
       "    }\n",
       "</style>\n",
       "<table border=\"1\" class=\"dataframe\">\n",
       "  <thead>\n",
       "    <tr style=\"text-align: right;\">\n",
       "      <th></th>\n",
       "      <th>null</th>\n",
       "      <th>percent</th>\n",
       "    </tr>\n",
       "  </thead>\n",
       "  <tbody>\n",
       "    <tr>\n",
       "      <th>drive</th>\n",
       "      <td>400</td>\n",
       "      <td>0.001</td>\n",
       "    </tr>\n",
       "    <tr>\n",
       "      <th>size</th>\n",
       "      <td>400</td>\n",
       "      <td>0.001</td>\n",
       "    </tr>\n",
       "    <tr>\n",
       "      <th>price</th>\n",
       "      <td>0</td>\n",
       "      <td>0.000</td>\n",
       "    </tr>\n",
       "    <tr>\n",
       "      <th>year</th>\n",
       "      <td>0</td>\n",
       "      <td>0.000</td>\n",
       "    </tr>\n",
       "    <tr>\n",
       "      <th>manufacturer</th>\n",
       "      <td>0</td>\n",
       "      <td>0.000</td>\n",
       "    </tr>\n",
       "    <tr>\n",
       "      <th>model</th>\n",
       "      <td>0</td>\n",
       "      <td>0.000</td>\n",
       "    </tr>\n",
       "    <tr>\n",
       "      <th>condition</th>\n",
       "      <td>0</td>\n",
       "      <td>0.000</td>\n",
       "    </tr>\n",
       "    <tr>\n",
       "      <th>cylinders</th>\n",
       "      <td>0</td>\n",
       "      <td>0.000</td>\n",
       "    </tr>\n",
       "    <tr>\n",
       "      <th>fuel</th>\n",
       "      <td>0</td>\n",
       "      <td>0.000</td>\n",
       "    </tr>\n",
       "    <tr>\n",
       "      <th>odometer</th>\n",
       "      <td>0</td>\n",
       "      <td>0.000</td>\n",
       "    </tr>\n",
       "    <tr>\n",
       "      <th>title_status</th>\n",
       "      <td>0</td>\n",
       "      <td>0.000</td>\n",
       "    </tr>\n",
       "    <tr>\n",
       "      <th>transmission</th>\n",
       "      <td>0</td>\n",
       "      <td>0.000</td>\n",
       "    </tr>\n",
       "    <tr>\n",
       "      <th>type</th>\n",
       "      <td>0</td>\n",
       "      <td>0.000</td>\n",
       "    </tr>\n",
       "    <tr>\n",
       "      <th>paint_color</th>\n",
       "      <td>0</td>\n",
       "      <td>0.000</td>\n",
       "    </tr>\n",
       "  </tbody>\n",
       "</table>\n",
       "</div>"
      ],
      "text/plain": [
       "              null  percent\n",
       "drive          400    0.001\n",
       "size           400    0.001\n",
       "price            0    0.000\n",
       "year             0    0.000\n",
       "manufacturer     0    0.000\n",
       "model            0    0.000\n",
       "condition        0    0.000\n",
       "cylinders        0    0.000\n",
       "fuel             0    0.000\n",
       "odometer         0    0.000\n",
       "title_status     0    0.000\n",
       "transmission     0    0.000\n",
       "type             0    0.000\n",
       "paint_color      0    0.000"
      ]
     },
     "execution_count": 33,
     "metadata": {},
     "output_type": "execute_result"
    }
   ],
   "source": [
    "null_values=df.isnull().sum()\n",
    "null_values=pd.DataFrame(null_values,columns=['null'])\n",
    "i=1\n",
    "sum_tot=len(df)\n",
    "null_values['percent']=null_values['null']/sum_tot\n",
    "round(null_values*100,3).sort_values('percent',ascending=False)"
   ]
  },
  {
   "cell_type": "markdown",
   "metadata": {},
   "source": [
    "**Dropping the null values for size and drive as they have very small percentage**"
   ]
  },
  {
   "cell_type": "code",
   "execution_count": 34,
   "metadata": {},
   "outputs": [],
   "source": [
    "df=df.dropna(axis='columns')"
   ]
  },
  {
   "cell_type": "markdown",
   "metadata": {},
   "source": [
    "**Our data should be clean now**"
   ]
  },
  {
   "cell_type": "code",
   "execution_count": 35,
   "metadata": {},
   "outputs": [
    {
     "data": {
      "text/html": [
       "<div>\n",
       "<style scoped>\n",
       "    .dataframe tbody tr th:only-of-type {\n",
       "        vertical-align: middle;\n",
       "    }\n",
       "\n",
       "    .dataframe tbody tr th {\n",
       "        vertical-align: top;\n",
       "    }\n",
       "\n",
       "    .dataframe thead th {\n",
       "        text-align: right;\n",
       "    }\n",
       "</style>\n",
       "<table border=\"1\" class=\"dataframe\">\n",
       "  <thead>\n",
       "    <tr style=\"text-align: right;\">\n",
       "      <th></th>\n",
       "      <th>null</th>\n",
       "      <th>percent</th>\n",
       "    </tr>\n",
       "  </thead>\n",
       "  <tbody>\n",
       "    <tr>\n",
       "      <th>price</th>\n",
       "      <td>0</td>\n",
       "      <td>0.0</td>\n",
       "    </tr>\n",
       "    <tr>\n",
       "      <th>year</th>\n",
       "      <td>0</td>\n",
       "      <td>0.0</td>\n",
       "    </tr>\n",
       "    <tr>\n",
       "      <th>manufacturer</th>\n",
       "      <td>0</td>\n",
       "      <td>0.0</td>\n",
       "    </tr>\n",
       "    <tr>\n",
       "      <th>model</th>\n",
       "      <td>0</td>\n",
       "      <td>0.0</td>\n",
       "    </tr>\n",
       "    <tr>\n",
       "      <th>condition</th>\n",
       "      <td>0</td>\n",
       "      <td>0.0</td>\n",
       "    </tr>\n",
       "    <tr>\n",
       "      <th>cylinders</th>\n",
       "      <td>0</td>\n",
       "      <td>0.0</td>\n",
       "    </tr>\n",
       "    <tr>\n",
       "      <th>fuel</th>\n",
       "      <td>0</td>\n",
       "      <td>0.0</td>\n",
       "    </tr>\n",
       "    <tr>\n",
       "      <th>odometer</th>\n",
       "      <td>0</td>\n",
       "      <td>0.0</td>\n",
       "    </tr>\n",
       "    <tr>\n",
       "      <th>title_status</th>\n",
       "      <td>0</td>\n",
       "      <td>0.0</td>\n",
       "    </tr>\n",
       "    <tr>\n",
       "      <th>transmission</th>\n",
       "      <td>0</td>\n",
       "      <td>0.0</td>\n",
       "    </tr>\n",
       "    <tr>\n",
       "      <th>type</th>\n",
       "      <td>0</td>\n",
       "      <td>0.0</td>\n",
       "    </tr>\n",
       "    <tr>\n",
       "      <th>paint_color</th>\n",
       "      <td>0</td>\n",
       "      <td>0.0</td>\n",
       "    </tr>\n",
       "  </tbody>\n",
       "</table>\n",
       "</div>"
      ],
      "text/plain": [
       "              null  percent\n",
       "price            0      0.0\n",
       "year             0      0.0\n",
       "manufacturer     0      0.0\n",
       "model            0      0.0\n",
       "condition        0      0.0\n",
       "cylinders        0      0.0\n",
       "fuel             0      0.0\n",
       "odometer         0      0.0\n",
       "title_status     0      0.0\n",
       "transmission     0      0.0\n",
       "type             0      0.0\n",
       "paint_color      0      0.0"
      ]
     },
     "execution_count": 35,
     "metadata": {},
     "output_type": "execute_result"
    }
   ],
   "source": [
    "null_values=df.isnull().sum()\n",
    "null_values=pd.DataFrame(null_values,columns=['null'])\n",
    "i=1\n",
    "sum_tot=len(df)\n",
    "null_values['percent']=null_values['null']/sum_tot\n",
    "round(null_values*100,3).sort_values('percent',ascending=False)"
   ]
  },
  {
   "cell_type": "markdown",
   "metadata": {},
   "source": [
    "**Visualizing our cleaned data**"
   ]
  },
  {
   "cell_type": "code",
   "execution_count": 36,
   "metadata": {},
   "outputs": [
    {
     "data": {
      "text/plain": [
       "<seaborn.axisgrid.PairGrid at 0x2562907d610>"
      ]
     },
     "execution_count": 36,
     "metadata": {},
     "output_type": "execute_result"
    },
    {
     "data": {
      "image/png": "[encoded data removed]",
      "text/plain": [
       "<Figure size 540x540 with 12 Axes>"
      ]
     },
     "metadata": {
      "needs_background": "light"
     },
     "output_type": "display_data"
    }
   ],
   "source": [
    "sns.pairplot(df)"
   ]
  },
  {
   "cell_type": "markdown",
   "metadata": {},
   "source": [
    "**Sorting using the price and year**"
   ]
  },
  {
   "cell_type": "code",
   "execution_count": 41,
   "metadata": {},
   "outputs": [
    {
     "data": {
      "text/html": [
       "<div>\n",
       "<style scoped>\n",
       "    .dataframe tbody tr th:only-of-type {\n",
       "        vertical-align: middle;\n",
       "    }\n",
       "\n",
       "    .dataframe tbody tr th {\n",
       "        vertical-align: top;\n",
       "    }\n",
       "\n",
       "    .dataframe thead th {\n",
       "        text-align: right;\n",
       "    }\n",
       "</style>\n",
       "<table border=\"1\" class=\"dataframe\">\n",
       "  <thead>\n",
       "    <tr style=\"text-align: right;\">\n",
       "      <th></th>\n",
       "      <th></th>\n",
       "      <th>manufacturer</th>\n",
       "      <th>model</th>\n",
       "      <th>condition</th>\n",
       "      <th>cylinders</th>\n",
       "      <th>fuel</th>\n",
       "      <th>odometer</th>\n",
       "      <th>title_status</th>\n",
       "      <th>transmission</th>\n",
       "      <th>type</th>\n",
       "      <th>paint_color</th>\n",
       "    </tr>\n",
       "    <tr>\n",
       "      <th>price</th>\n",
       "      <th>year</th>\n",
       "      <th></th>\n",
       "      <th></th>\n",
       "      <th></th>\n",
       "      <th></th>\n",
       "      <th></th>\n",
       "      <th></th>\n",
       "      <th></th>\n",
       "      <th></th>\n",
       "      <th></th>\n",
       "      <th></th>\n",
       "    </tr>\n",
       "  </thead>\n",
       "  <tbody>\n",
       "    <tr>\n",
       "      <th>8950</th>\n",
       "      <th>2007.0</th>\n",
       "      <td>honda</td>\n",
       "      <td>pilot</td>\n",
       "      <td>salvage</td>\n",
       "      <td>6 cylinders</td>\n",
       "      <td>gas</td>\n",
       "      <td>156918.0</td>\n",
       "      <td>clean</td>\n",
       "      <td>automatic</td>\n",
       "      <td>SUV</td>\n",
       "      <td>white</td>\n",
       "    </tr>\n",
       "    <tr>\n",
       "      <th>23916</th>\n",
       "      <th>2017.0</th>\n",
       "      <td>nissan</td>\n",
       "      <td>pathfinder</td>\n",
       "      <td>like new</td>\n",
       "      <td>8 cylinders</td>\n",
       "      <td>gas</td>\n",
       "      <td>66096.0</td>\n",
       "      <td>clean</td>\n",
       "      <td>other</td>\n",
       "      <td>other</td>\n",
       "      <td>white</td>\n",
       "    </tr>\n",
       "    <tr>\n",
       "      <th>25590</th>\n",
       "      <th>2020.0</th>\n",
       "      <td>buick</td>\n",
       "      <td>encore gx select sport</td>\n",
       "      <td>good</td>\n",
       "      <td>6 cylinders</td>\n",
       "      <td>gas</td>\n",
       "      <td>1113.0</td>\n",
       "      <td>clean</td>\n",
       "      <td>automatic</td>\n",
       "      <td>SUV</td>\n",
       "      <td>red</td>\n",
       "    </tr>\n",
       "    <tr>\n",
       "      <th>19999</th>\n",
       "      <th>2011.0</th>\n",
       "      <td>ford</td>\n",
       "      <td>f150 supercab xlt</td>\n",
       "      <td>salvage</td>\n",
       "      <td>6 cylinders</td>\n",
       "      <td>gas</td>\n",
       "      <td>125200.0</td>\n",
       "      <td>clean</td>\n",
       "      <td>automatic</td>\n",
       "      <td>pickup</td>\n",
       "      <td>white</td>\n",
       "    </tr>\n",
       "    <tr>\n",
       "      <th>16998</th>\n",
       "      <th>2016.0</th>\n",
       "      <td>nissan</td>\n",
       "      <td>rogue sv low miles nice</td>\n",
       "      <td>excellent</td>\n",
       "      <td>8 cylinders</td>\n",
       "      <td>gas</td>\n",
       "      <td>37599.0</td>\n",
       "      <td>clean</td>\n",
       "      <td>automatic</td>\n",
       "      <td>SUV</td>\n",
       "      <td>blue</td>\n",
       "    </tr>\n",
       "    <tr>\n",
       "      <th>60990</th>\n",
       "      <th>2018.0</th>\n",
       "      <td>mercedes-benz</td>\n",
       "      <td>s-class s 450</td>\n",
       "      <td>good</td>\n",
       "      <td>6 cylinders</td>\n",
       "      <td>other</td>\n",
       "      <td>34765.0</td>\n",
       "      <td>clean</td>\n",
       "      <td>other</td>\n",
       "      <td>sedan</td>\n",
       "      <td>black</td>\n",
       "    </tr>\n",
       "    <tr>\n",
       "      <th>2200</th>\n",
       "      <th>2004.0</th>\n",
       "      <td>ford</td>\n",
       "      <td>e350 box truck</td>\n",
       "      <td>fair</td>\n",
       "      <td>8 cylinders</td>\n",
       "      <td>gas</td>\n",
       "      <td>187892.0</td>\n",
       "      <td>clean</td>\n",
       "      <td>automatic</td>\n",
       "      <td>truck</td>\n",
       "      <td>white</td>\n",
       "    </tr>\n",
       "    <tr>\n",
       "      <th>16500</th>\n",
       "      <th>2014.0</th>\n",
       "      <td>ford</td>\n",
       "      <td>edge sel</td>\n",
       "      <td>good</td>\n",
       "      <td>6 cylinders</td>\n",
       "      <td>gas</td>\n",
       "      <td>67700.0</td>\n",
       "      <td>clean</td>\n",
       "      <td>automatic</td>\n",
       "      <td>pickup</td>\n",
       "      <td>white</td>\n",
       "    </tr>\n",
       "    <tr>\n",
       "      <th>2500</th>\n",
       "      <th>2001.0</th>\n",
       "      <td>chevrolet</td>\n",
       "      <td>c3500 service truck</td>\n",
       "      <td>good</td>\n",
       "      <td>8 cylinders</td>\n",
       "      <td>gas</td>\n",
       "      <td>160000.0</td>\n",
       "      <td>clean</td>\n",
       "      <td>manual</td>\n",
       "      <td>other</td>\n",
       "      <td>white</td>\n",
       "    </tr>\n",
       "    <tr>\n",
       "      <th>4988</th>\n",
       "      <th>2000.0</th>\n",
       "      <td>ford</td>\n",
       "      <td>expedition eddie bauer 4dr</td>\n",
       "      <td>salvage</td>\n",
       "      <td>8 cylinders</td>\n",
       "      <td>gas</td>\n",
       "      <td>142692.0</td>\n",
       "      <td>clean</td>\n",
       "      <td>automatic</td>\n",
       "      <td>SUV</td>\n",
       "      <td>blue</td>\n",
       "    </tr>\n",
       "  </tbody>\n",
       "</table>\n",
       "</div>"
      ],
      "text/plain": [
       "               manufacturer                       model  condition  \\\n",
       "price year                                                           \n",
       "8950  2007.0          honda                       pilot    salvage   \n",
       "23916 2017.0         nissan                  pathfinder   like new   \n",
       "25590 2020.0          buick      encore gx select sport       good   \n",
       "19999 2011.0           ford           f150 supercab xlt    salvage   \n",
       "16998 2016.0         nissan     rogue sv low miles nice  excellent   \n",
       "60990 2018.0  mercedes-benz               s-class s 450       good   \n",
       "2200  2004.0           ford              e350 box truck       fair   \n",
       "16500 2014.0           ford                    edge sel       good   \n",
       "2500  2001.0      chevrolet         c3500 service truck       good   \n",
       "4988  2000.0           ford  expedition eddie bauer 4dr    salvage   \n",
       "\n",
       "                cylinders   fuel  odometer title_status transmission    type  \\\n",
       "price year                                                                     \n",
       "8950  2007.0  6 cylinders    gas  156918.0        clean    automatic     SUV   \n",
       "23916 2017.0  8 cylinders    gas   66096.0        clean        other   other   \n",
       "25590 2020.0  6 cylinders    gas    1113.0        clean    automatic     SUV   \n",
       "19999 2011.0  6 cylinders    gas  125200.0        clean    automatic  pickup   \n",
       "16998 2016.0  8 cylinders    gas   37599.0        clean    automatic     SUV   \n",
       "60990 2018.0  6 cylinders  other   34765.0        clean        other   sedan   \n",
       "2200  2004.0  8 cylinders    gas  187892.0        clean    automatic   truck   \n",
       "16500 2014.0  6 cylinders    gas   67700.0        clean    automatic  pickup   \n",
       "2500  2001.0  8 cylinders    gas  160000.0        clean       manual   other   \n",
       "4988  2000.0  8 cylinders    gas  142692.0        clean    automatic     SUV   \n",
       "\n",
       "             paint_color  \n",
       "price year                \n",
       "8950  2007.0       white  \n",
       "23916 2017.0       white  \n",
       "25590 2020.0         red  \n",
       "19999 2011.0       white  \n",
       "16998 2016.0        blue  \n",
       "60990 2018.0       black  \n",
       "2200  2004.0       white  \n",
       "16500 2014.0       white  \n",
       "2500  2001.0       white  \n",
       "4988  2000.0        blue  "
      ]
     },
     "execution_count": 41,
     "metadata": {},
     "output_type": "execute_result"
    }
   ],
   "source": [
    "df.set_index(['price', 'year']).sample(10)"
   ]
  },
  {
   "cell_type": "markdown",
   "metadata": {},
   "source": [
    "**Sorting using the year**"
   ]
  },
  {
   "cell_type": "code",
   "execution_count": 42,
   "metadata": {},
   "outputs": [
    {
     "data": {
      "text/html": [
       "<div>\n",
       "<style scoped>\n",
       "    .dataframe tbody tr th:only-of-type {\n",
       "        vertical-align: middle;\n",
       "    }\n",
       "\n",
       "    .dataframe tbody tr th {\n",
       "        vertical-align: top;\n",
       "    }\n",
       "\n",
       "    .dataframe thead th {\n",
       "        text-align: right;\n",
       "    }\n",
       "</style>\n",
       "<table border=\"1\" class=\"dataframe\">\n",
       "  <thead>\n",
       "    <tr style=\"text-align: right;\">\n",
       "      <th></th>\n",
       "      <th>price</th>\n",
       "      <th>year</th>\n",
       "      <th>manufacturer</th>\n",
       "      <th>model</th>\n",
       "      <th>condition</th>\n",
       "      <th>cylinders</th>\n",
       "      <th>fuel</th>\n",
       "      <th>odometer</th>\n",
       "      <th>title_status</th>\n",
       "      <th>transmission</th>\n",
       "      <th>type</th>\n",
       "      <th>paint_color</th>\n",
       "    </tr>\n",
       "  </thead>\n",
       "  <tbody>\n",
       "    <tr>\n",
       "      <th>108069</th>\n",
       "      <td>8788</td>\n",
       "      <td>2012.0</td>\n",
       "      <td>chevrolet</td>\n",
       "      <td>cruze</td>\n",
       "      <td>excellent</td>\n",
       "      <td>8 cylinders</td>\n",
       "      <td>gas</td>\n",
       "      <td>79849.0</td>\n",
       "      <td>clean</td>\n",
       "      <td>manual</td>\n",
       "      <td>sedan</td>\n",
       "      <td>white</td>\n",
       "    </tr>\n",
       "    <tr>\n",
       "      <th>318974</th>\n",
       "      <td>9999</td>\n",
       "      <td>2010.0</td>\n",
       "      <td>volvo</td>\n",
       "      <td>xc60</td>\n",
       "      <td>salvage</td>\n",
       "      <td>6 cylinders</td>\n",
       "      <td>gas</td>\n",
       "      <td>151000.0</td>\n",
       "      <td>clean</td>\n",
       "      <td>automatic</td>\n",
       "      <td>SUV</td>\n",
       "      <td>silver</td>\n",
       "    </tr>\n",
       "    <tr>\n",
       "      <th>99724</th>\n",
       "      <td>9900</td>\n",
       "      <td>2013.0</td>\n",
       "      <td>mini</td>\n",
       "      <td>cooper countryman</td>\n",
       "      <td>excellent</td>\n",
       "      <td>4 cylinders</td>\n",
       "      <td>gas</td>\n",
       "      <td>100552.0</td>\n",
       "      <td>clean</td>\n",
       "      <td>automatic</td>\n",
       "      <td>hatchback</td>\n",
       "      <td>silver</td>\n",
       "    </tr>\n",
       "    <tr>\n",
       "      <th>405115</th>\n",
       "      <td>24999</td>\n",
       "      <td>2018.0</td>\n",
       "      <td>acura</td>\n",
       "      <td>rdx 6-spd at awd</td>\n",
       "      <td>new</td>\n",
       "      <td>8 cylinders</td>\n",
       "      <td>gas</td>\n",
       "      <td>30556.0</td>\n",
       "      <td>clean</td>\n",
       "      <td>automatic</td>\n",
       "      <td>SUV</td>\n",
       "      <td>brown</td>\n",
       "    </tr>\n",
       "    <tr>\n",
       "      <th>148562</th>\n",
       "      <td>6950</td>\n",
       "      <td>2005.0</td>\n",
       "      <td>ford</td>\n",
       "      <td>ranger</td>\n",
       "      <td>fair</td>\n",
       "      <td>4 cylinders</td>\n",
       "      <td>gas</td>\n",
       "      <td>215679.0</td>\n",
       "      <td>clean</td>\n",
       "      <td>other</td>\n",
       "      <td>other</td>\n",
       "      <td>white</td>\n",
       "    </tr>\n",
       "    <tr>\n",
       "      <th>86553</th>\n",
       "      <td>16995</td>\n",
       "      <td>2010.0</td>\n",
       "      <td>ford</td>\n",
       "      <td>f-350 super duty dump</td>\n",
       "      <td>excellent</td>\n",
       "      <td>4 cylinders</td>\n",
       "      <td>diesel</td>\n",
       "      <td>91474.0</td>\n",
       "      <td>clean</td>\n",
       "      <td>automatic</td>\n",
       "      <td>sedan</td>\n",
       "      <td>red</td>\n",
       "    </tr>\n",
       "    <tr>\n",
       "      <th>197083</th>\n",
       "      <td>6999</td>\n",
       "      <td>2013.0</td>\n",
       "      <td>ford</td>\n",
       "      <td>taurus</td>\n",
       "      <td>salvage</td>\n",
       "      <td>6 cylinders</td>\n",
       "      <td>gas</td>\n",
       "      <td>136508.0</td>\n",
       "      <td>clean</td>\n",
       "      <td>automatic</td>\n",
       "      <td>sedan</td>\n",
       "      <td>silver</td>\n",
       "    </tr>\n",
       "    <tr>\n",
       "      <th>406604</th>\n",
       "      <td>8995</td>\n",
       "      <td>2011.0</td>\n",
       "      <td>kia</td>\n",
       "      <td>sportage</td>\n",
       "      <td>good</td>\n",
       "      <td>4 cylinders</td>\n",
       "      <td>gas</td>\n",
       "      <td>132000.0</td>\n",
       "      <td>clean</td>\n",
       "      <td>automatic</td>\n",
       "      <td>SUV</td>\n",
       "      <td>grey</td>\n",
       "    </tr>\n",
       "    <tr>\n",
       "      <th>31702</th>\n",
       "      <td>14999</td>\n",
       "      <td>2014.0</td>\n",
       "      <td>chevrolet</td>\n",
       "      <td>silverado 1500 work tr</td>\n",
       "      <td>salvage</td>\n",
       "      <td>6 cylinders</td>\n",
       "      <td>other</td>\n",
       "      <td>114906.0</td>\n",
       "      <td>clean</td>\n",
       "      <td>automatic</td>\n",
       "      <td>pickup</td>\n",
       "      <td>white</td>\n",
       "    </tr>\n",
       "    <tr>\n",
       "      <th>78084</th>\n",
       "      <td>22387</td>\n",
       "      <td>2019.0</td>\n",
       "      <td>toyota</td>\n",
       "      <td>camry</td>\n",
       "      <td>new</td>\n",
       "      <td>4 cylinders</td>\n",
       "      <td>gas</td>\n",
       "      <td>51774.0</td>\n",
       "      <td>clean</td>\n",
       "      <td>automatic</td>\n",
       "      <td>sedan</td>\n",
       "      <td>grey</td>\n",
       "    </tr>\n",
       "  </tbody>\n",
       "</table>\n",
       "</div>"
      ],
      "text/plain": [
       "        price    year manufacturer                   model  condition  \\\n",
       "108069   8788  2012.0    chevrolet                   cruze  excellent   \n",
       "318974   9999  2010.0        volvo                    xc60    salvage   \n",
       "99724    9900  2013.0         mini       cooper countryman  excellent   \n",
       "405115  24999  2018.0        acura        rdx 6-spd at awd        new   \n",
       "148562   6950  2005.0         ford                  ranger       fair   \n",
       "86553   16995  2010.0         ford   f-350 super duty dump  excellent   \n",
       "197083   6999  2013.0         ford                  taurus    salvage   \n",
       "406604   8995  2011.0          kia                sportage       good   \n",
       "31702   14999  2014.0    chevrolet  silverado 1500 work tr    salvage   \n",
       "78084   22387  2019.0       toyota                   camry        new   \n",
       "\n",
       "          cylinders    fuel  odometer title_status transmission       type  \\\n",
       "108069  8 cylinders     gas   79849.0        clean       manual      sedan   \n",
       "318974  6 cylinders     gas  151000.0        clean    automatic        SUV   \n",
       "99724   4 cylinders     gas  100552.0        clean    automatic  hatchback   \n",
       "405115  8 cylinders     gas   30556.0        clean    automatic        SUV   \n",
       "148562  4 cylinders     gas  215679.0        clean        other      other   \n",
       "86553   4 cylinders  diesel   91474.0        clean    automatic      sedan   \n",
       "197083  6 cylinders     gas  136508.0        clean    automatic      sedan   \n",
       "406604  4 cylinders     gas  132000.0        clean    automatic        SUV   \n",
       "31702   6 cylinders   other  114906.0        clean    automatic     pickup   \n",
       "78084   4 cylinders     gas   51774.0        clean    automatic      sedan   \n",
       "\n",
       "       paint_color  \n",
       "108069       white  \n",
       "318974      silver  \n",
       "99724       silver  \n",
       "405115       brown  \n",
       "148562       white  \n",
       "86553          red  \n",
       "197083      silver  \n",
       "406604        grey  \n",
       "31702        white  \n",
       "78084         grey  "
      ]
     },
     "execution_count": 42,
     "metadata": {},
     "output_type": "execute_result"
    }
   ],
   "source": [
    "df.sort_values('year').sample(10)"
   ]
  },
  {
   "cell_type": "code",
   "execution_count": 43,
   "metadata": {},
   "outputs": [
    {
     "data": {
      "text/html": [
       "<div>\n",
       "<style scoped>\n",
       "    .dataframe tbody tr th:only-of-type {\n",
       "        vertical-align: middle;\n",
       "    }\n",
       "\n",
       "    .dataframe tbody tr th {\n",
       "        vertical-align: top;\n",
       "    }\n",
       "\n",
       "    .dataframe thead th {\n",
       "        text-align: right;\n",
       "    }\n",
       "</style>\n",
       "<table border=\"1\" class=\"dataframe\">\n",
       "  <thead>\n",
       "    <tr style=\"text-align: right;\">\n",
       "      <th></th>\n",
       "      <th>price</th>\n",
       "      <th>year</th>\n",
       "      <th>odometer</th>\n",
       "    </tr>\n",
       "  </thead>\n",
       "  <tbody>\n",
       "    <tr>\n",
       "      <th>count</th>\n",
       "      <td>363512.000000</td>\n",
       "      <td>363512.000000</td>\n",
       "      <td>363512.000000</td>\n",
       "    </tr>\n",
       "    <tr>\n",
       "      <th>mean</th>\n",
       "      <td>19202.438838</td>\n",
       "      <td>2012.049767</td>\n",
       "      <td>94418.799561</td>\n",
       "    </tr>\n",
       "    <tr>\n",
       "      <th>std</th>\n",
       "      <td>14446.446052</td>\n",
       "      <td>6.276700</td>\n",
       "      <td>61067.252286</td>\n",
       "    </tr>\n",
       "    <tr>\n",
       "      <th>min</th>\n",
       "      <td>500.000000</td>\n",
       "      <td>1981.000000</td>\n",
       "      <td>1001.000000</td>\n",
       "    </tr>\n",
       "    <tr>\n",
       "      <th>25%</th>\n",
       "      <td>7900.000000</td>\n",
       "      <td>2008.000000</td>\n",
       "      <td>41002.000000</td>\n",
       "    </tr>\n",
       "    <tr>\n",
       "      <th>50%</th>\n",
       "      <td>15988.000000</td>\n",
       "      <td>2013.000000</td>\n",
       "      <td>90000.000000</td>\n",
       "    </tr>\n",
       "    <tr>\n",
       "      <th>75%</th>\n",
       "      <td>27990.000000</td>\n",
       "      <td>2017.000000</td>\n",
       "      <td>137000.000000</td>\n",
       "    </tr>\n",
       "    <tr>\n",
       "      <th>max</th>\n",
       "      <td>149998.000000</td>\n",
       "      <td>2022.000000</td>\n",
       "      <td>299999.000000</td>\n",
       "    </tr>\n",
       "  </tbody>\n",
       "</table>\n",
       "</div>"
      ],
      "text/plain": [
       "               price           year       odometer\n",
       "count  363512.000000  363512.000000  363512.000000\n",
       "mean    19202.438838    2012.049767   94418.799561\n",
       "std     14446.446052       6.276700   61067.252286\n",
       "min       500.000000    1981.000000    1001.000000\n",
       "25%      7900.000000    2008.000000   41002.000000\n",
       "50%     15988.000000    2013.000000   90000.000000\n",
       "75%     27990.000000    2017.000000  137000.000000\n",
       "max    149998.000000    2022.000000  299999.000000"
      ]
     },
     "execution_count": 43,
     "metadata": {},
     "output_type": "execute_result"
    }
   ],
   "source": [
    "df.describe()"
   ]
  },
  {
   "cell_type": "code",
   "execution_count": 44,
   "metadata": {},
   "outputs": [
    {
     "name": "stdout",
     "output_type": "stream",
     "text": [
      "<class 'pandas.core.frame.DataFrame'>\n",
      "Int64Index: 363512 entries, 27 to 426879\n",
      "Data columns (total 12 columns):\n",
      " #   Column        Non-Null Count   Dtype  \n",
      "---  ------        --------------   -----  \n",
      " 0   price         363512 non-null  int64  \n",
      " 1   year          363512 non-null  float64\n",
      " 2   manufacturer  363512 non-null  object \n",
      " 3   model         363512 non-null  object \n",
      " 4   condition     363512 non-null  object \n",
      " 5   cylinders     363512 non-null  object \n",
      " 6   fuel          363512 non-null  object \n",
      " 7   odometer      363512 non-null  float64\n",
      " 8   title_status  363512 non-null  object \n",
      " 9   transmission  363512 non-null  object \n",
      " 10  type          363512 non-null  object \n",
      " 11  paint_color   363512 non-null  object \n",
      "dtypes: float64(2), int64(1), object(9)\n",
      "memory usage: 36.1+ MB\n"
     ]
    }
   ],
   "source": [
    "df.info()"
   ]
  },
  {
   "cell_type": "markdown",
   "metadata": {},
   "source": [
    "**Viewing the number of cars based on Manufacturer**"
   ]
  },
  {
   "cell_type": "code",
   "execution_count": 45,
   "metadata": {},
   "outputs": [
    {
     "data": {
      "text/plain": [
       "ford               61993\n",
       "chevrolet          46947\n",
       "toyota             30888\n",
       "honda              19481\n",
       "nissan             17050\n",
       "jeep               16513\n",
       "ram                16109\n",
       "gmc                15041\n",
       "bmw                13596\n",
       "dodge              11296\n",
       "mercedes-benz       9894\n",
       "hyundai             9244\n",
       "subaru              8854\n",
       "volkswagen          8263\n",
       "lexus               7743\n",
       "kia                 7377\n",
       "audi                7198\n",
       "cadillac            6323\n",
       "acura               5738\n",
       "chrysler            5442\n",
       "buick               4982\n",
       "mazda               4949\n",
       "infiniti            4521\n",
       "lincoln             3937\n",
       "volvo               3144\n",
       "mitsubishi          3049\n",
       "mini                2243\n",
       "rover               1937\n",
       "pontiac             1917\n",
       "jaguar              1845\n",
       "porsche             1247\n",
       "saturn              1082\n",
       "mercury              959\n",
       "alfa-romeo           870\n",
       "tesla                855\n",
       "fiat                 742\n",
       "harley-davidson      124\n",
       "ferrari               69\n",
       "aston-martin          21\n",
       "datsun                17\n",
       "land rover            11\n",
       "morgan                 1\n",
       "Name: manufacturer, dtype: int64"
      ]
     },
     "execution_count": 45,
     "metadata": {},
     "output_type": "execute_result"
    }
   ],
   "source": [
    "df.manufacturer.value_counts()"
   ]
  },
  {
   "cell_type": "markdown",
   "metadata": {},
   "source": [
    "**Saving our Cleaned data**"
   ]
  },
  {
   "cell_type": "code",
   "execution_count": 133,
   "metadata": {},
   "outputs": [],
   "source": [
    "df.to_csv('vehicles_cleaned.csv', index=False)"
   ]
  },
  {
   "cell_type": "markdown",
   "metadata": {},
   "source": []
  },
  {
   "cell_type": "markdown",
   "metadata": {},
   "source": [
    "**Now we will work on the cleaned data**"
   ]
  },
  {
   "cell_type": "code",
   "execution_count": 46,
   "metadata": {},
   "outputs": [
    {
     "data": {
      "text/html": [
       "<div>\n",
       "<style scoped>\n",
       "    .dataframe tbody tr th:only-of-type {\n",
       "        vertical-align: middle;\n",
       "    }\n",
       "\n",
       "    .dataframe tbody tr th {\n",
       "        vertical-align: top;\n",
       "    }\n",
       "\n",
       "    .dataframe thead th {\n",
       "        text-align: right;\n",
       "    }\n",
       "</style>\n",
       "<table border=\"1\" class=\"dataframe\">\n",
       "  <thead>\n",
       "    <tr style=\"text-align: right;\">\n",
       "      <th></th>\n",
       "      <th>price</th>\n",
       "      <th>year</th>\n",
       "      <th>manufacturer</th>\n",
       "      <th>model</th>\n",
       "      <th>condition</th>\n",
       "      <th>cylinders</th>\n",
       "      <th>fuel</th>\n",
       "      <th>odometer</th>\n",
       "      <th>title_status</th>\n",
       "      <th>transmission</th>\n",
       "      <th>type</th>\n",
       "      <th>paint_color</th>\n",
       "    </tr>\n",
       "  </thead>\n",
       "  <tbody>\n",
       "    <tr>\n",
       "      <th>27</th>\n",
       "      <td>33590</td>\n",
       "      <td>2014.0</td>\n",
       "      <td>gmc</td>\n",
       "      <td>sierra 1500 crew cab slt</td>\n",
       "      <td>good</td>\n",
       "      <td>8 cylinders</td>\n",
       "      <td>gas</td>\n",
       "      <td>57923.0</td>\n",
       "      <td>clean</td>\n",
       "      <td>other</td>\n",
       "      <td>pickup</td>\n",
       "      <td>white</td>\n",
       "    </tr>\n",
       "    <tr>\n",
       "      <th>28</th>\n",
       "      <td>22590</td>\n",
       "      <td>2010.0</td>\n",
       "      <td>chevrolet</td>\n",
       "      <td>silverado 1500</td>\n",
       "      <td>good</td>\n",
       "      <td>8 cylinders</td>\n",
       "      <td>gas</td>\n",
       "      <td>71229.0</td>\n",
       "      <td>clean</td>\n",
       "      <td>other</td>\n",
       "      <td>pickup</td>\n",
       "      <td>blue</td>\n",
       "    </tr>\n",
       "    <tr>\n",
       "      <th>29</th>\n",
       "      <td>39590</td>\n",
       "      <td>2020.0</td>\n",
       "      <td>chevrolet</td>\n",
       "      <td>silverado 1500 crew</td>\n",
       "      <td>good</td>\n",
       "      <td>8 cylinders</td>\n",
       "      <td>gas</td>\n",
       "      <td>19160.0</td>\n",
       "      <td>clean</td>\n",
       "      <td>other</td>\n",
       "      <td>pickup</td>\n",
       "      <td>red</td>\n",
       "    </tr>\n",
       "    <tr>\n",
       "      <th>30</th>\n",
       "      <td>30990</td>\n",
       "      <td>2017.0</td>\n",
       "      <td>toyota</td>\n",
       "      <td>tundra double cab sr</td>\n",
       "      <td>good</td>\n",
       "      <td>8 cylinders</td>\n",
       "      <td>gas</td>\n",
       "      <td>41124.0</td>\n",
       "      <td>clean</td>\n",
       "      <td>other</td>\n",
       "      <td>pickup</td>\n",
       "      <td>red</td>\n",
       "    </tr>\n",
       "    <tr>\n",
       "      <th>31</th>\n",
       "      <td>15000</td>\n",
       "      <td>2013.0</td>\n",
       "      <td>ford</td>\n",
       "      <td>f-150 xlt</td>\n",
       "      <td>excellent</td>\n",
       "      <td>6 cylinders</td>\n",
       "      <td>gas</td>\n",
       "      <td>128000.0</td>\n",
       "      <td>clean</td>\n",
       "      <td>automatic</td>\n",
       "      <td>truck</td>\n",
       "      <td>black</td>\n",
       "    </tr>\n",
       "  </tbody>\n",
       "</table>\n",
       "</div>"
      ],
      "text/plain": [
       "    price    year manufacturer                     model  condition  \\\n",
       "27  33590  2014.0          gmc  sierra 1500 crew cab slt       good   \n",
       "28  22590  2010.0    chevrolet            silverado 1500       good   \n",
       "29  39590  2020.0    chevrolet       silverado 1500 crew       good   \n",
       "30  30990  2017.0       toyota      tundra double cab sr       good   \n",
       "31  15000  2013.0         ford                 f-150 xlt  excellent   \n",
       "\n",
       "      cylinders fuel  odometer title_status transmission    type paint_color  \n",
       "27  8 cylinders  gas   57923.0        clean        other  pickup       white  \n",
       "28  8 cylinders  gas   71229.0        clean        other  pickup        blue  \n",
       "29  8 cylinders  gas   19160.0        clean        other  pickup         red  \n",
       "30  8 cylinders  gas   41124.0        clean        other  pickup         red  \n",
       "31  6 cylinders  gas  128000.0        clean    automatic   truck       black  "
      ]
     },
     "execution_count": 46,
     "metadata": {},
     "output_type": "execute_result"
    }
   ],
   "source": [
    "df.head(5)"
   ]
  },
  {
   "cell_type": "code",
   "execution_count": 47,
   "metadata": {},
   "outputs": [
    {
     "name": "stdout",
     "output_type": "stream",
     "text": [
      "<class 'pandas.core.frame.DataFrame'>\n",
      "Int64Index: 363512 entries, 27 to 426879\n",
      "Data columns (total 12 columns):\n",
      " #   Column        Non-Null Count   Dtype  \n",
      "---  ------        --------------   -----  \n",
      " 0   price         363512 non-null  int64  \n",
      " 1   year          363512 non-null  float64\n",
      " 2   manufacturer  363512 non-null  object \n",
      " 3   model         363512 non-null  object \n",
      " 4   condition     363512 non-null  object \n",
      " 5   cylinders     363512 non-null  object \n",
      " 6   fuel          363512 non-null  object \n",
      " 7   odometer      363512 non-null  float64\n",
      " 8   title_status  363512 non-null  object \n",
      " 9   transmission  363512 non-null  object \n",
      " 10  type          363512 non-null  object \n",
      " 11  paint_color   363512 non-null  object \n",
      "dtypes: float64(2), int64(1), object(9)\n",
      "memory usage: 36.1+ MB\n"
     ]
    }
   ],
   "source": [
    "df.info()"
   ]
  },
  {
   "cell_type": "markdown",
   "metadata": {},
   "source": [
    "**First, I will do a preprocessing with SciKit Learn**"
   ]
  },
  {
   "cell_type": "markdown",
   "metadata": {},
   "source": [
    "**Label Processing**"
   ]
  },
  {
   "cell_type": "code",
   "execution_count": 48,
   "metadata": {},
   "outputs": [],
   "source": [
    "from sklearn import preprocessing\n",
    "pre = preprocessing.LabelEncoder()\n",
    "\n",
    "df[['manufacturer', 'model', 'condition', 'cylinders','fuel','title_status', 'transmission','year','type','paint_color']] = df[['manufacturer', 'model', 'condition','cylinders', 'fuel','title_status', 'transmission','year','type','paint_color']].apply(pre.fit_transform)"
   ]
  },
  {
   "cell_type": "markdown",
   "metadata": {},
   "source": [
    "**Split Train and Test data**"
   ]
  },
  {
   "cell_type": "code",
   "execution_count": 49,
   "metadata": {},
   "outputs": [
    {
     "name": "stdout",
     "output_type": "stream",
     "text": [
      "(290809, 11) (290809,)\n",
      "(72703, 11) (72703,)\n"
     ]
    }
   ],
   "source": [
    "from sklearn.model_selection import train_test_split\n",
    "\n",
    "y= df.price\n",
    "X= df.drop('price',axis=1)\n",
    "\n",
    "X_train, X_test, y_train, y_test = train_test_split(X, y, test_size=0.2, random_state=42)\n",
    "\n",
    "print (X_train.shape, y_train.shape)\n",
    "print (X_test.shape, y_test.shape)"
   ]
  },
  {
   "cell_type": "markdown",
   "metadata": {},
   "source": [
    "**Min-max scaler:**\n",
    "\n",
    "For each value in a feature, MinMaxScaler subtracts the minimum value in the feature and then divides by the range. The range is the difference between the original maximum and original minimum."
   ]
  },
  {
   "cell_type": "code",
   "execution_count": 50,
   "metadata": {},
   "outputs": [],
   "source": [
    "from sklearn.preprocessing import MinMaxScaler\n",
    "sc = MinMaxScaler()   \n",
    "X_train= sc.fit_transform(X_train)\n",
    "X_test= sc.transform(X_test)"
   ]
  },
  {
   "cell_type": "code",
   "execution_count": 51,
   "metadata": {},
   "outputs": [
    {
     "data": {
      "text/plain": [
       "array([[0.65853659, 0.36585366, 0.38732742, ..., 0.        , 0.66666667,\n",
       "        0.        ],\n",
       "       [0.87804878, 0.24390244, 0.56640368, ..., 0.        , 0.41666667,\n",
       "        0.90909091],\n",
       "       [0.90243902, 0.41463415, 0.41683103, ..., 0.        , 0.75      ,\n",
       "        0.09090909],\n",
       "       ...,\n",
       "       [0.68292683, 0.31707317, 0.80029586, ..., 0.        , 1.        ,\n",
       "        0.72727273],\n",
       "       [0.75609756, 0.31707317, 0.67784352, ..., 0.        , 0.        ,\n",
       "        0.72727273],\n",
       "       [0.80487805, 0.17073171, 0.83041584, ..., 1.        , 0.66666667,\n",
       "        0.18181818]])"
      ]
     },
     "execution_count": 51,
     "metadata": {},
     "output_type": "execute_result"
    }
   ],
   "source": [
    "X_train"
   ]
  },
  {
   "cell_type": "markdown",
   "metadata": {},
   "source": [
    " <h3>Random Forest</h3>"
   ]
  },
  {
   "cell_type": "code",
   "execution_count": 52,
   "metadata": {},
   "outputs": [],
   "source": [
    "Reg = RandomForestRegressor(n_estimators=20, random_state=0)\n",
    "Reg.fit(X_train, y_train)\n",
    "y_pred = Reg.predict(X_test)"
   ]
  },
  {
   "cell_type": "code",
   "execution_count": 53,
   "metadata": {},
   "outputs": [
    {
     "name": "stdout",
     "output_type": "stream",
     "text": [
      "Mean Absolute Error: 2410.212\n",
      "Mean Squared Error: 29212092.587\n",
      "Root Mean Squared Error: 5404.821\n"
     ]
    }
   ],
   "source": [
    "print('Mean Absolute Error:', round(metrics.mean_absolute_error(y_test, y_pred),3))\n",
    "print('Mean Squared Error:', round(metrics.mean_squared_error(y_test, y_pred),3))\n",
    "print('Root Mean Squared Error:', round(np.sqrt(metrics.mean_squared_error(y_test, y_pred)),3))"
   ]
  },
  {
   "cell_type": "markdown",
   "metadata": {},
   "source": [
    "**Let's increase number of estimator from 20 to 300**"
   ]
  },
  {
   "cell_type": "code",
   "execution_count": 54,
   "metadata": {},
   "outputs": [],
   "source": [
    "from sklearn.ensemble import RandomForestRegressor\n",
    "Reg = RandomForestRegressor(n_estimators=300, random_state=0)\n",
    "Reg.fit(X_train, y_train)\n",
    "y_pred = Reg.predict(X_test)"
   ]
  },
  {
   "cell_type": "code",
   "execution_count": 55,
   "metadata": {},
   "outputs": [
    {
     "name": "stdout",
     "output_type": "stream",
     "text": [
      "Mean Absolute Error: 2323.871\n",
      "Mean Squared Error: 27957030.011\n",
      "Root Mean Squared Error: 5287.441\n"
     ]
    }
   ],
   "source": [
    "print('Mean Absolute Error:', round(metrics.mean_absolute_error(y_test, y_pred),3))\n",
    "print('Mean Squared Error:', round(metrics.mean_squared_error(y_test, y_pred),3))\n",
    "print('Root Mean Squared Error:', round(np.sqrt(metrics.mean_squared_error(y_test, y_pred)),3))"
   ]
  },
  {
   "cell_type": "markdown",
   "metadata": {},
   "source": [
    "**With more trees, the model accuracy has increased slightly**"
   ]
  },
  {
   "cell_type": "markdown",
   "metadata": {},
   "source": [
    "**Visualization**"
   ]
  },
  {
   "cell_type": "code",
   "execution_count": 58,
   "metadata": {},
   "outputs": [],
   "source": [
    "rf= Reg\n",
    "features= df.drop('price', axis = 1)\n",
    "\n",
    "# Saving feature names for later use\n",
    "feature_list = list(features.columns)\n",
    "# Convert to numpy array\n",
    "features = np.array(features)\n",
    "\n",
    "Rnd = RandomForestRegressor(n_estimators=10, max_depth = 3)\n",
    "Rnd.fit(X_train, y_train)\n",
    "# Extract the small tree\n",
    "tree = Rnd.estimators_[5]\n",
    "# Save the tree as a png image\n",
    "export_graphviz(tree, out_file = 'small_tree.png',\n",
    "                feature_names = feature_list, rounded = True, precision = 1, proportion = False, filled= True)\n",
    "\n",
    "graph.write_png('small_tree.png');\n"
   ]
  },
  {
   "cell_type": "code",
   "execution_count": null,
   "metadata": {},
   "outputs": [],
   "source": [
    "from IPython.display import Image\n",
    "Image(filename = 'small_tree.png')"
   ]
  },
  {
   "cell_type": "markdown",
   "metadata": {},
   "source": [
    "**Features Relevance**"
   ]
  },
  {
   "cell_type": "code",
   "execution_count": 59,
   "metadata": {},
   "outputs": [
    {
     "name": "stdout",
     "output_type": "stream",
     "text": [
      "Variable: year                 Importance: 0.4\n",
      "Variable: odometer             Importance: 0.15\n",
      "Variable: model                Importance: 0.14\n",
      "Variable: fuel                 Importance: 0.1\n",
      "Variable: manufacturer         Importance: 0.06\n",
      "Variable: cylinders            Importance: 0.05\n",
      "Variable: type                 Importance: 0.04\n",
      "Variable: condition            Importance: 0.02\n",
      "Variable: paint_color          Importance: 0.02\n",
      "Variable: title_status         Importance: 0.01\n",
      "Variable: transmission         Importance: 0.01\n"
     ]
    }
   ],
   "source": [
    "importances = list(rf.feature_importances_)\n",
    "\n",
    "# List of tuples with variable and importance\n",
    "feature_importances = [(feature, round(importance, 2)) for feature, importance in zip(feature_list, importances)]\n",
    "\n",
    "# Sort the feature importances by most important first\n",
    "feature_importances = sorted(feature_importances, key = lambda x: x[1], reverse = True)\n",
    "\n",
    "# Print out the feature and importances \n",
    "[print('Variable: {:20} Importance: {}'.format(*pair)) for pair in feature_importances];"
   ]
  },
  {
   "cell_type": "code",
   "execution_count": 60,
   "metadata": {},
   "outputs": [
    {
     "data": {
      "image/png": "[encoded data removed]",
      "text/plain": [
       "<Figure size 432x288 with 1 Axes>"
      ]
     },
     "metadata": {},
     "output_type": "display_data"
    }
   ],
   "source": [
    "# Set the style\n",
    "plt.style.use('fivethirtyeight')\n",
    "# list of x locations for plotting\n",
    "x_values = list(range(len(importances)))\n",
    "# Make a bar chart\n",
    "plt.bar(x_values, importances, orientation = 'vertical')\n",
    "# Tick labels for x axis\n",
    "plt.xticks(x_values, feature_list, rotation='vertical')\n",
    "# Axis labels and title\n",
    "plt.ylabel('Importance'); plt.xlabel('Variable'); plt.title('Variable Importances');"
   ]
  },
  {
   "cell_type": "code",
   "execution_count": 61,
   "metadata": {},
   "outputs": [
    {
     "data": {
      "image/png": "[encoded data removed]",
      "text/plain": [
       "<Figure size 432x288 with 1 Axes>"
      ]
     },
     "metadata": {},
     "output_type": "display_data"
    }
   ],
   "source": [
    "# List of features sorted from most to least important\n",
    "sorted_importances = [importance[1] for importance in feature_importances]\n",
    "sorted_features = [importance[0] for importance in feature_importances]\n",
    "# Cumulative importances\n",
    "cumulative_importances = np.cumsum(sorted_importances)\n",
    "# Make a line graph\n",
    "plt.plot(x_values, cumulative_importances, 'g-')\n",
    "# Draw line at 90% of importance retained\n",
    "plt.hlines(y = 0.90, xmin=0, xmax=len(sorted_importances), color = 'r', linestyles = 'dashed')\n",
    "# Format x ticks and labels\n",
    "plt.xticks(x_values, sorted_features, rotation = 'vertical')\n",
    "# Axis labels and title\n",
    "plt.xlabel('Variable'); plt.ylabel('Cumulative Importance');\n",
    "plt.title('Cumulative Importances');"
   ]
  },
  {
   "cell_type": "code",
   "execution_count": 62,
   "metadata": {},
   "outputs": [
    {
     "name": "stdout",
     "output_type": "stream",
     "text": [
      "Number of features for 90% importance: 6\n"
     ]
    }
   ],
   "source": [
    "# Find number of features for cumulative importance of 90%\n",
    "\n",
    "# Add 1 because Python is zero-indexed\n",
    "print('Number of features for 90% importance:', np.where(cumulative_importances > 0.90)[0][0] + 1)"
   ]
  },
  {
   "cell_type": "markdown",
   "metadata": {},
   "source": [
    "**New Random Forest with the most important 6 features**"
   ]
  },
  {
   "cell_type": "code",
   "execution_count": 63,
   "metadata": {},
   "outputs": [],
   "source": [
    "# New random forest with only the most important variables\n",
    "from sklearn.ensemble import RandomForestRegressor\n",
    "random_forest_most_important = RandomForestRegressor(n_estimators=300, random_state=0)"
   ]
  },
  {
   "cell_type": "code",
   "execution_count": 64,
   "metadata": {},
   "outputs": [],
   "source": [
    "# Extract the most important features\n",
    "features= df.drop('price', axis = 1)\n",
    "\n",
    "# Saving feature names for later use\n",
    "rf_feature_list = list(features.columns)\n",
    "# Convert to numpy array\n",
    "features = np.array(features)\n",
    "\n",
    "\n",
    "important_indices = [rf_feature_list.index('year'), \n",
    "                     rf_feature_list.index('odometer'), rf_feature_list.index('fuel'),\n",
    "                     rf_feature_list.index('model'), rf_feature_list.index('cylinders'), rf_feature_list.index('manufacturer')]\n",
    "train_important = X_train[:, important_indices]\n",
    "test_important = X_test[:, important_indices]"
   ]
  },
  {
   "cell_type": "code",
   "execution_count": 65,
   "metadata": {},
   "outputs": [
    {
     "data": {
      "text/plain": [
       "RandomForestRegressor(n_estimators=300, random_state=0)"
      ]
     },
     "execution_count": 65,
     "metadata": {},
     "output_type": "execute_result"
    }
   ],
   "source": [
    "# Train the random forest\n",
    "random_forest_most_important.fit(train_important, y_train)"
   ]
  },
  {
   "cell_type": "markdown",
   "metadata": {},
   "source": [
    "**Make pedictions with this filtered model**"
   ]
  },
  {
   "cell_type": "code",
   "execution_count": 67,
   "metadata": {},
   "outputs": [],
   "source": [
    "predictions = random_forest_most_important.predict(test_important)"
   ]
  },
  {
   "cell_type": "code",
   "execution_count": 68,
   "metadata": {},
   "outputs": [
    {
     "name": "stdout",
     "output_type": "stream",
     "text": [
      "Mean Absolute Error: 2218.47\n",
      "Mean Squared Error: 27237704.97\n",
      "Root Mean Squared Error: 5218.98\n"
     ]
    }
   ],
   "source": [
    "from sklearn import metrics\n",
    "print('Mean Absolute Error:', round(metrics.mean_absolute_error(y_test, predictions),2))\n",
    "print('Mean Squared Error:', round(metrics.mean_squared_error(y_test, predictions),2))\n",
    "print('Root Mean Squared Error:', round(np.sqrt(metrics.mean_squared_error(y_test, predictions)),2))"
   ]
  },
  {
   "cell_type": "markdown",
   "metadata": {},
   "source": []
  },
  {
   "cell_type": "markdown",
   "metadata": {},
   "source": [
    "This accuracy is slightly better than the full model. In addition, we this accuracy was obtained just by using 6 features instead of 13. Therefore, it can be considered as an improvement in both accuracy and efficiency."
   ]
  },
  {
   "cell_type": "markdown",
   "metadata": {},
   "source": [
    "# Linear Regression"
   ]
  },
  {
   "cell_type": "code",
   "execution_count": 69,
   "metadata": {},
   "outputs": [],
   "source": [
    "Linear_Reg = LinearRegression()\n",
    "Linear_Reg.fit(X_train, y_train)\n",
    "y_pred_Linear_Reg = Linear_Reg.predict(X_test)\n",
    "RMSE_Linear_Reg = np.sqrt(mse(y_test, y_pred_Linear_Reg))"
   ]
  },
  {
   "cell_type": "code",
   "execution_count": 70,
   "metadata": {},
   "outputs": [
    {
     "name": "stdout",
     "output_type": "stream",
     "text": [
      "Linear Regression\n",
      "RMSE = 10558.867\n",
      "Linear_Reg_Accuracy = 0.469\n"
     ]
    }
   ],
   "source": [
    "print('Linear Regression')\n",
    "print(\"RMSE = {:.3f}\".format((RMSE_Linear_Reg)))\n",
    "Linear_Reg_Accuracy = Linear_Reg.score(X_test,y_test)\n",
    "print('Linear_Reg_Accuracy = {:.3f}'.format((Linear_Reg_Accuracy)))"
   ]
  },
  {
   "cell_type": "code",
   "execution_count": 78,
   "metadata": {},
   "outputs": [
    {
     "name": "stdout",
     "output_type": "stream",
     "text": [
      "-2052.0897750651966\n",
      "[ 32526.30302649  -1047.29968769    612.0344962    2551.93045694\n",
      "  16186.93938539 -15467.307296   -25391.46227581  -7364.97805018\n",
      "   1824.45398009    797.29166623    441.5457319 ]\n"
     ]
    }
   ],
   "source": [
    "Regressor = LinearRegression()  \n",
    "Regressor.fit(X_train, y_train) #training the algorithm\n",
    "\n",
    "#To retrieve the intercept:\n",
    "print(Regressor.intercept_)#For retrieving the slope:\n",
    "print(Regressor.coef_)"
   ]
  },
  {
   "cell_type": "markdown",
   "metadata": {},
   "source": [
    "<h3>For Ordinary Least Square Regression</h3>"
   ]
  },
  {
   "cell_type": "code",
   "execution_count": 79,
   "metadata": {},
   "outputs": [],
   "source": [
    "OLS_pred= Regressor.predict(X_train)"
   ]
  },
  {
   "cell_type": "code",
   "execution_count": 80,
   "metadata": {},
   "outputs": [
    {
     "name": "stdout",
     "output_type": "stream",
     "text": [
      "Mean Absolute Error: 7456.856\n",
      "Mean Squared Error: 109421021.248\n",
      "Root Mean Squared Error: 10460.45\n"
     ]
    }
   ],
   "source": [
    "print('Mean Absolute Error:', round(metrics.mean_absolute_error(y_train, OLS_pred),3))\n",
    "print('Mean Squared Error:', round(metrics.mean_squared_error(y_train, OLS_pred),3))\n",
    "print('Root Mean Squared Error:', round(np.sqrt(metrics.mean_squared_error(y_train, OLS_pred)),3))"
   ]
  },
  {
   "cell_type": "markdown",
   "metadata": {},
   "source": [
    "**Check performance of the OLS on test data**"
   ]
  },
  {
   "cell_type": "code",
   "execution_count": 81,
   "metadata": {},
   "outputs": [],
   "source": [
    "y_pred_OLS = Regressor.predict(X_test)"
   ]
  },
  {
   "cell_type": "code",
   "execution_count": 82,
   "metadata": {},
   "outputs": [
    {
     "name": "stdout",
     "output_type": "stream",
     "text": [
      "Mean Absolute Error: 7504.505\n",
      "Mean Squared Error: 111489674.656\n",
      "Root Mean Squared Error: 10558.867\n"
     ]
    }
   ],
   "source": [
    "print('Mean Absolute Error:', round(metrics.mean_absolute_error(y_test, y_pred_OLS),3))\n",
    "print('Mean Squared Error:', round(metrics.mean_squared_error(y_test, y_pred_OLS),3))\n",
    "print('Root Mean Squared Error:', round(np.sqrt(metrics.mean_squared_error(y_test, y_pred_OLS)),3))"
   ]
  },
  {
   "cell_type": "code",
   "execution_count": 84,
   "metadata": {},
   "outputs": [
    {
     "data": {
      "text/html": [
       "<div>\n",
       "<style scoped>\n",
       "    .dataframe tbody tr th:only-of-type {\n",
       "        vertical-align: middle;\n",
       "    }\n",
       "\n",
       "    .dataframe tbody tr th {\n",
       "        vertical-align: top;\n",
       "    }\n",
       "\n",
       "    .dataframe thead th {\n",
       "        text-align: right;\n",
       "    }\n",
       "</style>\n",
       "<table border=\"1\" class=\"dataframe\">\n",
       "  <thead>\n",
       "    <tr style=\"text-align: right;\">\n",
       "      <th></th>\n",
       "      <th>Actual</th>\n",
       "      <th>Predicted</th>\n",
       "    </tr>\n",
       "  </thead>\n",
       "  <tbody>\n",
       "    <tr>\n",
       "      <th>206191</th>\n",
       "      <td>23359</td>\n",
       "      <td>27492.125</td>\n",
       "    </tr>\n",
       "    <tr>\n",
       "      <th>211426</th>\n",
       "      <td>2395</td>\n",
       "      <td>3984.281</td>\n",
       "    </tr>\n",
       "    <tr>\n",
       "      <th>372611</th>\n",
       "      <td>27990</td>\n",
       "      <td>30497.977</td>\n",
       "    </tr>\n",
       "    <tr>\n",
       "      <th>417309</th>\n",
       "      <td>27500</td>\n",
       "      <td>21808.817</td>\n",
       "    </tr>\n",
       "    <tr>\n",
       "      <th>413079</th>\n",
       "      <td>19581</td>\n",
       "      <td>33502.360</td>\n",
       "    </tr>\n",
       "    <tr>\n",
       "      <th>340377</th>\n",
       "      <td>27990</td>\n",
       "      <td>31188.943</td>\n",
       "    </tr>\n",
       "    <tr>\n",
       "      <th>418977</th>\n",
       "      <td>33590</td>\n",
       "      <td>35311.380</td>\n",
       "    </tr>\n",
       "    <tr>\n",
       "      <th>422894</th>\n",
       "      <td>22487</td>\n",
       "      <td>25665.148</td>\n",
       "    </tr>\n",
       "    <tr>\n",
       "      <th>148680</th>\n",
       "      <td>5995</td>\n",
       "      <td>13717.357</td>\n",
       "    </tr>\n",
       "    <tr>\n",
       "      <th>313938</th>\n",
       "      <td>23995</td>\n",
       "      <td>25786.614</td>\n",
       "    </tr>\n",
       "  </tbody>\n",
       "</table>\n",
       "</div>"
      ],
      "text/plain": [
       "        Actual  Predicted\n",
       "206191   23359  27492.125\n",
       "211426    2395   3984.281\n",
       "372611   27990  30497.977\n",
       "417309   27500  21808.817\n",
       "413079   19581  33502.360\n",
       "340377   27990  31188.943\n",
       "418977   33590  35311.380\n",
       "422894   22487  25665.148\n",
       "148680    5995  13717.357\n",
       "313938   23995  25786.614"
      ]
     },
     "execution_count": 84,
     "metadata": {},
     "output_type": "execute_result"
    }
   ],
   "source": [
    "df_pred_OLS = pd.DataFrame({'Actual': y_test, 'Predicted': y_pred_OLS})\n",
    "df_pred_OLS1 = df_pred_OLS.head(10)\n",
    "round(df_pred_OLS1,3)"
   ]
  },
  {
   "cell_type": "code",
   "execution_count": 85,
   "metadata": {},
   "outputs": [
    {
     "data": {
      "image/png": "[encoded data removed]",
      "text/plain": [
       "<Figure size 720x576 with 1 Axes>"
      ]
     },
     "metadata": {},
     "output_type": "display_data"
    }
   ],
   "source": [
    "df_pred_OLS1.plot(kind='bar',figsize=(10,8))\n",
    "plt.grid(which='major', linestyle='-', linewidth='0.5', color='green')\n",
    "plt.grid(which='minor', linestyle=':', linewidth='0.5', color='black')\n",
    "plt.show()"
   ]
  },
  {
   "cell_type": "markdown",
   "metadata": {},
   "source": []
  },
  {
   "cell_type": "markdown",
   "metadata": {},
   "source": [
    "# Ridge Regression"
   ]
  },
  {
   "cell_type": "markdown",
   "metadata": {},
   "source": [
    "**Training the model**"
   ]
  },
  {
   "cell_type": "code",
   "execution_count": 86,
   "metadata": {},
   "outputs": [],
   "source": [
    "Ridge_Regression = Ridge()\n",
    "Ridge_Regression.fit(X_train, y_train)\n",
    "y_pred_Ridge_Regression = Ridge_Regression.predict(X_test)\n",
    "RMSE_Ridge_Regression = np.sqrt(mse(y_test, y_pred_Ridge_Regression))"
   ]
  },
  {
   "cell_type": "code",
   "execution_count": 87,
   "metadata": {},
   "outputs": [
    {
     "name": "stdout",
     "output_type": "stream",
     "text": [
      "Ridge Regression\n",
      "RMSE = 10558.869\n",
      "Ridge_Regression_Accuracy = 0.469\n"
     ]
    }
   ],
   "source": [
    "print('Ridge Regression')\n",
    "print(\"RMSE = {:.3f}\".format((RMSE_Ridge_Regression)))\n",
    "Ridge_Regression_Accuracy = Ridge_Regression.score(X_test,y_test)\n",
    "print('Ridge_Regression_Accuracy = {:.3f}'.format((Ridge_Regression_Accuracy)))"
   ]
  },
  {
   "cell_type": "code",
   "execution_count": 88,
   "metadata": {},
   "outputs": [
    {
     "name": "stdout",
     "output_type": "stream",
     "text": [
      "-2052.0897750651966\n",
      "[ 32526.30302649  -1047.29968769    612.0344962    2551.93045694\n",
      "  16186.93938539 -15467.307296   -25391.46227581  -7364.97805018\n",
      "   1824.45398009    797.29166623    441.5457319 ]\n"
     ]
    }
   ],
   "source": [
    "Regressor = LinearRegression()  \n",
    "Regressor.fit(X_train, y_train) #training the algorithm\n",
    "\n",
    "#To retrieve the intercept:\n",
    "print(Regressor.intercept_)\n",
    "#For retrieving the slope:\n",
    "print(Regressor.coef_)"
   ]
  },
  {
   "cell_type": "code",
   "execution_count": 89,
   "metadata": {},
   "outputs": [],
   "source": [
    "alphas = 10**np.linspace(10,-2,200)*0.5"
   ]
  },
  {
   "cell_type": "markdown",
   "metadata": {},
   "source": [
    "**Visualizing the weights of alpha**"
   ]
  },
  {
   "cell_type": "code",
   "execution_count": 90,
   "metadata": {},
   "outputs": [
    {
     "data": {
      "text/plain": [
       "Text(0, 0.5, 'weights')"
      ]
     },
     "execution_count": 90,
     "metadata": {},
     "output_type": "execute_result"
    },
    {
     "data": {
      "image/png": "[encoded data removed]",
      "text/plain": [
       "<Figure size 432x288 with 1 Axes>"
      ]
     },
     "metadata": {
      "needs_background": "light"
     },
     "output_type": "display_data"
    }
   ],
   "source": [
    "from sklearn.preprocessing import scale \n",
    "from sklearn.datasets import make_regression\n",
    "\n",
    "\n",
    "clf= Ridge()\n",
    "coefs = []\n",
    "\n",
    "for a in alphas:\n",
    "    clf.set_params(alpha=a)\n",
    "    clf.fit(scale(X_train), y_train)\n",
    "    coefs.append(clf.coef_)\n",
    "    \n",
    "ax = plt.gca()\n",
    "ax.plot(alphas*2, coefs)\n",
    "ax.set_xscale('log')\n",
    "plt.axis('tight')\n",
    "plt.xlabel('alpha')\n",
    "plt.ylabel('weights')"
   ]
  },
  {
   "cell_type": "code",
   "execution_count": 91,
   "metadata": {},
   "outputs": [
    {
     "data": {
      "text/plain": [
       "0.005"
      ]
     },
     "execution_count": 91,
     "metadata": {},
     "output_type": "execute_result"
    }
   ],
   "source": [
    "from sklearn.preprocessing import scale \n",
    "\n",
    "Ridge_Cross_Val = RidgeCV(alphas = alphas, scoring = 'neg_mean_squared_error', normalize = True)\n",
    "Ridge_Cross_Val.fit(X_train, y_train)\n",
    "Ridge_Cross_Val.alpha_"
   ]
  },
  {
   "cell_type": "markdown",
   "metadata": {},
   "source": [
    "Now, we refit our Ridge Regression model on the whole data set, using the value of alpha that was chosen using the cross-validation, and examine the coefficient estimates."
   ]
  },
  {
   "cell_type": "code",
   "execution_count": 92,
   "metadata": {},
   "outputs": [
    {
     "name": "stdout",
     "output_type": "stream",
     "text": [
      "year            32420.049815\n",
      "manufacturer    -1049.622517\n",
      "model             608.812148\n",
      "condition        2554.676482\n",
      "cylinders       16105.208862\n",
      "fuel           -15364.021220\n",
      "odometer       -25281.230747\n",
      "title_status    -7329.933825\n",
      "transmission     1841.135683\n",
      "type              799.240869\n",
      "paint_color       441.260733\n",
      "dtype: float64\n"
     ]
    }
   ],
   "source": [
    "# Fit a ridge regression on the training data\n",
    "y_pred2 = Ridge_Cross_Val.predict(X_test)\n",
    "# Use this model to predict the test data\n",
    "print(pd.Series(Ridge_Cross_Val.coef_, index = X.columns))"
   ]
  },
  {
   "cell_type": "code",
   "execution_count": 93,
   "metadata": {},
   "outputs": [
    {
     "name": "stdout",
     "output_type": "stream",
     "text": [
      "Mean Absolute Error: 7503.925\n",
      "Mean Squared Error: 111493101.527\n",
      "Root Mean Squared Error: 10559.029\n"
     ]
    }
   ],
   "source": [
    "print('Mean Absolute Error:', round(metrics.mean_absolute_error(y_test, y_pred2),3))\n",
    "print('Mean Squared Error:', round(metrics.mean_squared_error(y_test, y_pred2),3))\n",
    "print('Root Mean Squared Error:', round(np.sqrt(metrics.mean_squared_error(y_test, y_pred2)),3))"
   ]
  },
  {
   "cell_type": "code",
   "execution_count": 94,
   "metadata": {},
   "outputs": [
    {
     "data": {
      "text/plain": [
       "Text(0.5, 1.0, 'Feature importance using Ridge Model')"
      ]
     },
     "execution_count": 94,
     "metadata": {},
     "output_type": "execute_result"
    },
    {
     "data": {
      "image/png": "[encoded data removed]",
      "text/plain": [
       "<Figure size 504x504 with 1 Axes>"
      ]
     },
     "metadata": {
      "needs_background": "light"
     },
     "output_type": "display_data"
    }
   ],
   "source": [
    "Ridge_Coef= pd.Series(Ridge_Cross_Val.coef_, index = X.columns)\n",
    "Importance_coef = Ridge_Coef.sort_values()\n",
    "import matplotlib\n",
    "matplotlib.rcParams['figure.figsize'] = (7.0, 7.0)\n",
    "Importance_coef.plot(kind = \"barh\")\n",
    "plt.title(\"Feature importance using Ridge Model\")"
   ]
  },
  {
   "cell_type": "code",
   "execution_count": 95,
   "metadata": {},
   "outputs": [],
   "source": [
    "y_pred2 = Regressor.predict(X_test)"
   ]
  },
  {
   "cell_type": "code",
   "execution_count": 96,
   "metadata": {},
   "outputs": [
    {
     "data": {
      "text/html": [
       "<div>\n",
       "<style scoped>\n",
       "    .dataframe tbody tr th:only-of-type {\n",
       "        vertical-align: middle;\n",
       "    }\n",
       "\n",
       "    .dataframe tbody tr th {\n",
       "        vertical-align: top;\n",
       "    }\n",
       "\n",
       "    .dataframe thead th {\n",
       "        text-align: right;\n",
       "    }\n",
       "</style>\n",
       "<table border=\"1\" class=\"dataframe\">\n",
       "  <thead>\n",
       "    <tr style=\"text-align: right;\">\n",
       "      <th></th>\n",
       "      <th>Actual</th>\n",
       "      <th>Predicted</th>\n",
       "    </tr>\n",
       "  </thead>\n",
       "  <tbody>\n",
       "    <tr>\n",
       "      <th>206191</th>\n",
       "      <td>23359</td>\n",
       "      <td>27492.125</td>\n",
       "    </tr>\n",
       "    <tr>\n",
       "      <th>211426</th>\n",
       "      <td>2395</td>\n",
       "      <td>3984.281</td>\n",
       "    </tr>\n",
       "    <tr>\n",
       "      <th>372611</th>\n",
       "      <td>27990</td>\n",
       "      <td>30497.977</td>\n",
       "    </tr>\n",
       "    <tr>\n",
       "      <th>417309</th>\n",
       "      <td>27500</td>\n",
       "      <td>21808.817</td>\n",
       "    </tr>\n",
       "    <tr>\n",
       "      <th>413079</th>\n",
       "      <td>19581</td>\n",
       "      <td>33502.360</td>\n",
       "    </tr>\n",
       "    <tr>\n",
       "      <th>340377</th>\n",
       "      <td>27990</td>\n",
       "      <td>31188.943</td>\n",
       "    </tr>\n",
       "    <tr>\n",
       "      <th>418977</th>\n",
       "      <td>33590</td>\n",
       "      <td>35311.380</td>\n",
       "    </tr>\n",
       "    <tr>\n",
       "      <th>422894</th>\n",
       "      <td>22487</td>\n",
       "      <td>25665.148</td>\n",
       "    </tr>\n",
       "    <tr>\n",
       "      <th>148680</th>\n",
       "      <td>5995</td>\n",
       "      <td>13717.357</td>\n",
       "    </tr>\n",
       "    <tr>\n",
       "      <th>313938</th>\n",
       "      <td>23995</td>\n",
       "      <td>25786.614</td>\n",
       "    </tr>\n",
       "  </tbody>\n",
       "</table>\n",
       "</div>"
      ],
      "text/plain": [
       "        Actual  Predicted\n",
       "206191   23359  27492.125\n",
       "211426    2395   3984.281\n",
       "372611   27990  30497.977\n",
       "417309   27500  21808.817\n",
       "413079   19581  33502.360\n",
       "340377   27990  31188.943\n",
       "418977   33590  35311.380\n",
       "422894   22487  25665.148\n",
       "148680    5995  13717.357\n",
       "313938   23995  25786.614"
      ]
     },
     "execution_count": 96,
     "metadata": {},
     "output_type": "execute_result"
    }
   ],
   "source": [
    "df_pred_Ridge = pd.DataFrame({'Actual': y_test, 'Predicted': y_pred2})\n",
    "df_pred_Ridge2 = df_pred_Ridge.head(10)\n",
    "round(df_pred_Ridge2,3)"
   ]
  },
  {
   "cell_type": "markdown",
   "metadata": {},
   "source": [
    "**Bringing the tables together to see the difference in the prediction compared to actual**"
   ]
  },
  {
   "cell_type": "code",
   "execution_count": 98,
   "metadata": {},
   "outputs": [
    {
     "data": {
      "text/html": [
       "<div>\n",
       "<style scoped>\n",
       "    .dataframe tbody tr th:only-of-type {\n",
       "        vertical-align: middle;\n",
       "    }\n",
       "\n",
       "    .dataframe tbody tr th {\n",
       "        vertical-align: top;\n",
       "    }\n",
       "\n",
       "    .dataframe thead th {\n",
       "        text-align: right;\n",
       "    }\n",
       "</style>\n",
       "<table border=\"1\" class=\"dataframe\">\n",
       "  <thead>\n",
       "    <tr style=\"text-align: right;\">\n",
       "      <th></th>\n",
       "      <th>Actual</th>\n",
       "      <th>Predicted OLS</th>\n",
       "      <th>Predicted Ridge</th>\n",
       "    </tr>\n",
       "  </thead>\n",
       "  <tbody>\n",
       "    <tr>\n",
       "      <th>206191</th>\n",
       "      <td>23359</td>\n",
       "      <td>27492.125</td>\n",
       "      <td>27492.125</td>\n",
       "    </tr>\n",
       "    <tr>\n",
       "      <th>211426</th>\n",
       "      <td>2395</td>\n",
       "      <td>3984.281</td>\n",
       "      <td>3984.281</td>\n",
       "    </tr>\n",
       "    <tr>\n",
       "      <th>372611</th>\n",
       "      <td>27990</td>\n",
       "      <td>30497.977</td>\n",
       "      <td>30497.977</td>\n",
       "    </tr>\n",
       "    <tr>\n",
       "      <th>417309</th>\n",
       "      <td>27500</td>\n",
       "      <td>21808.817</td>\n",
       "      <td>21808.817</td>\n",
       "    </tr>\n",
       "    <tr>\n",
       "      <th>413079</th>\n",
       "      <td>19581</td>\n",
       "      <td>33502.360</td>\n",
       "      <td>33502.360</td>\n",
       "    </tr>\n",
       "    <tr>\n",
       "      <th>340377</th>\n",
       "      <td>27990</td>\n",
       "      <td>31188.943</td>\n",
       "      <td>31188.943</td>\n",
       "    </tr>\n",
       "    <tr>\n",
       "      <th>418977</th>\n",
       "      <td>33590</td>\n",
       "      <td>35311.380</td>\n",
       "      <td>35311.380</td>\n",
       "    </tr>\n",
       "    <tr>\n",
       "      <th>422894</th>\n",
       "      <td>22487</td>\n",
       "      <td>25665.148</td>\n",
       "      <td>25665.148</td>\n",
       "    </tr>\n",
       "    <tr>\n",
       "      <th>148680</th>\n",
       "      <td>5995</td>\n",
       "      <td>13717.357</td>\n",
       "      <td>13717.357</td>\n",
       "    </tr>\n",
       "    <tr>\n",
       "      <th>313938</th>\n",
       "      <td>23995</td>\n",
       "      <td>25786.614</td>\n",
       "      <td>25786.614</td>\n",
       "    </tr>\n",
       "  </tbody>\n",
       "</table>\n",
       "</div>"
      ],
      "text/plain": [
       "        Actual  Predicted OLS  Predicted Ridge\n",
       "206191   23359      27492.125        27492.125\n",
       "211426    2395       3984.281         3984.281\n",
       "372611   27990      30497.977        30497.977\n",
       "417309   27500      21808.817        21808.817\n",
       "413079   19581      33502.360        33502.360\n",
       "340377   27990      31188.943        31188.943\n",
       "418977   33590      35311.380        35311.380\n",
       "422894   22487      25665.148        25665.148\n",
       "148680    5995      13717.357        13717.357\n",
       "313938   23995      25786.614        25786.614"
      ]
     },
     "execution_count": 98,
     "metadata": {},
     "output_type": "execute_result"
    }
   ],
   "source": [
    "df_pred_OLS_Ridge = pd.DataFrame({'Actual': y_test, 'Predicted OLS': y_pred_OLS, 'Predicted Ridge': y_pred2})\n",
    "df_pred_OLS_Ridge2 = df_pred_OLS_Ridge.head(10)\n",
    "round(df_pred_OLS_Ridge2,3)"
   ]
  },
  {
   "cell_type": "markdown",
   "metadata": {},
   "source": [
    "## **LASSO**"
   ]
  },
  {
   "cell_type": "markdown",
   "metadata": {},
   "source": [
    "Visualizing the weights of the alphs fpr LASSO"
   ]
  },
  {
   "cell_type": "code",
   "execution_count": 99,
   "metadata": {},
   "outputs": [
    {
     "name": "stderr",
     "output_type": "stream",
     "text": [
      "No handles with labels found to put in legend.\n"
     ]
    },
    {
     "data": {
      "text/plain": [
       "<matplotlib.legend.Legend at 0x256b43b4be0>"
      ]
     },
     "execution_count": 99,
     "metadata": {},
     "output_type": "execute_result"
    },
    {
     "data": {
      "image/png": "[encoded data removed]",
      "text/plain": [
       "<Figure size 504x504 with 1 Axes>"
      ]
     },
     "metadata": {
      "needs_background": "light"
     },
     "output_type": "display_data"
    }
   ],
   "source": [
    "lasso = Lasso(max_iter = 10000, normalize = True)\n",
    "coefs = []\n",
    "alphas= np.logspace(-1,2,200)\n",
    "for a in alphas:\n",
    "    lasso.set_params(alpha=a)\n",
    "    lasso.fit(scale(X_train), y_train)\n",
    "    coefs.append(lasso.coef_)\n",
    "    \n",
    "ax = plt.gca()\n",
    "ax.plot(alphas*2, coefs)\n",
    "ax.set_xscale('log')\n",
    "plt.axis('tight')\n",
    "plt.xlabel('Lambda')\n",
    "plt.ylabel('weights')\n",
    "plt.title('Lasso Paths')\n",
    "plt.legend()"
   ]
  },
  {
   "cell_type": "code",
   "execution_count": 100,
   "metadata": {},
   "outputs": [
    {
     "name": "stdout",
     "output_type": "stream",
     "text": [
      "Best alpha using built-in LassoCV: 0.014868\n",
      "Best score using built-in LassoCV: 0.474800\n",
      "Root Mean Squared Error: 10558.85\n"
     ]
    }
   ],
   "source": [
    "Lasso_Reg = LassoCV( alphas = None, cv = 10, max_iter = 100000, normalize = True)\n",
    "Lasso_Reg.fit(X_train, y_train)\n",
    "print(\"Best alpha using built-in LassoCV: %f\" % Lasso_Reg.alpha_)\n",
    "print(\"Best score using built-in LassoCV: %f\" %Lasso_Reg.score(X_train,y_train))\n",
    "coef_LASSO = pd.Series(Lasso_Reg.coef_, index = X.columns)\n",
    "print('Root Mean Squared Error:', round(np.sqrt(metrics.mean_squared_error(y_test, Lasso_Reg.predict(X_test))),2))"
   ]
  },
  {
   "cell_type": "code",
   "execution_count": 101,
   "metadata": {},
   "outputs": [],
   "source": [
    "y_pred_LASSO = Lasso_Reg.predict(X_test)"
   ]
  },
  {
   "cell_type": "code",
   "execution_count": 102,
   "metadata": {},
   "outputs": [
    {
     "name": "stdout",
     "output_type": "stream",
     "text": [
      "Mean Absolute Error: 7504.793\n",
      "Mean Squared Error: 111489314.252\n",
      "Root Mean Squared Error: 10558.85\n"
     ]
    }
   ],
   "source": [
    "print('Mean Absolute Error:', round(metrics.mean_absolute_error(y_test, y_pred_LASSO),3))\n",
    "print('Mean Squared Error:', round(metrics.mean_squared_error(y_test, y_pred_LASSO),3))\n",
    "print('Root Mean Squared Error:', round(np.sqrt(metrics.mean_squared_error(y_test, y_pred_LASSO)),3))"
   ]
  },
  {
   "cell_type": "code",
   "execution_count": 103,
   "metadata": {},
   "outputs": [
    {
     "data": {
      "text/plain": [
       "0.014868478675187584"
      ]
     },
     "execution_count": 103,
     "metadata": {},
     "output_type": "execute_result"
    }
   ],
   "source": [
    "Lasso_Reg.alpha_"
   ]
  },
  {
   "cell_type": "code",
   "execution_count": 104,
   "metadata": {},
   "outputs": [
    {
     "data": {
      "text/plain": [
       "year            32499.027092\n",
       "manufacturer    -1020.344509\n",
       "model             579.766284\n",
       "condition        2530.781939\n",
       "cylinders       16160.020432\n",
       "fuel           -15405.058724\n",
       "odometer       -25373.421773\n",
       "title_status    -7318.529454\n",
       "transmission     1804.492886\n",
       "type              775.339361\n",
       "paint_color       422.418193\n",
       "dtype: float64"
      ]
     },
     "execution_count": 104,
     "metadata": {},
     "output_type": "execute_result"
    }
   ],
   "source": [
    "coef_LASSO"
   ]
  },
  {
   "cell_type": "code",
   "execution_count": 105,
   "metadata": {},
   "outputs": [
    {
     "data": {
      "text/plain": [
       "Text(0.5, 1.0, 'Feature importance using Lasso Model')"
      ]
     },
     "execution_count": 105,
     "metadata": {},
     "output_type": "execute_result"
    },
    {
     "data": {
      "image/png": "[encoded data removed]",
      "text/plain": [
       "<Figure size 432x504 with 1 Axes>"
      ]
     },
     "metadata": {
      "needs_background": "light"
     },
     "output_type": "display_data"
    }
   ],
   "source": [
    "important_coef_LASSO = coef_LASSO.sort_values()\n",
    "import matplotlib\n",
    "matplotlib.rcParams['figure.figsize'] = (6.0, 7.0)\n",
    "important_coef_LASSO.plot(kind = \"barh\")\n",
    "plt.title(\"Feature importance using Lasso Model\")"
   ]
  },
  {
   "cell_type": "code",
   "execution_count": 107,
   "metadata": {},
   "outputs": [
    {
     "name": "stdout",
     "output_type": "stream",
     "text": [
      "training score for alpha=200: 0.4138615523794448\n",
      "test score for alpha =200:  0.409077037230387\n",
      "number of features used: for alpha =300:  6\n"
     ]
    }
   ],
   "source": [
    "lasso_t = Lasso(alpha=300, max_iter=10e5)\n",
    "lasso_t.fit(X_train,y_train)\n",
    "train_score_t=lasso_t.score(X_train,y_train)\n",
    "test_score_t=lasso_t.score(X_test,y_test)\n",
    "coeff_used_t = np.sum(lasso_t.coef_!=0)\n",
    "print (\"training score for alpha=200:\", train_score_t)\n",
    "print (\"test score for alpha =200: \", test_score_t)\n",
    "print (\"number of features used: for alpha =300: \", coeff_used_t)"
   ]
  },
  {
   "cell_type": "code",
   "execution_count": 108,
   "metadata": {},
   "outputs": [
    {
     "data": {
      "text/html": [
       "<div>\n",
       "<style scoped>\n",
       "    .dataframe tbody tr th:only-of-type {\n",
       "        vertical-align: middle;\n",
       "    }\n",
       "\n",
       "    .dataframe tbody tr th {\n",
       "        vertical-align: top;\n",
       "    }\n",
       "\n",
       "    .dataframe thead th {\n",
       "        text-align: right;\n",
       "    }\n",
       "</style>\n",
       "<table border=\"1\" class=\"dataframe\">\n",
       "  <thead>\n",
       "    <tr style=\"text-align: right;\">\n",
       "      <th></th>\n",
       "      <th>Actual</th>\n",
       "      <th>Predicted</th>\n",
       "    </tr>\n",
       "  </thead>\n",
       "  <tbody>\n",
       "    <tr>\n",
       "      <th>206191</th>\n",
       "      <td>23359</td>\n",
       "      <td>27487.175</td>\n",
       "    </tr>\n",
       "    <tr>\n",
       "      <th>211426</th>\n",
       "      <td>2395</td>\n",
       "      <td>4038.362</td>\n",
       "    </tr>\n",
       "    <tr>\n",
       "      <th>372611</th>\n",
       "      <td>27990</td>\n",
       "      <td>30467.434</td>\n",
       "    </tr>\n",
       "    <tr>\n",
       "      <th>417309</th>\n",
       "      <td>27500</td>\n",
       "      <td>21807.438</td>\n",
       "    </tr>\n",
       "    <tr>\n",
       "      <th>413079</th>\n",
       "      <td>19581</td>\n",
       "      <td>33475.598</td>\n",
       "    </tr>\n",
       "    <tr>\n",
       "      <th>340377</th>\n",
       "      <td>27990</td>\n",
       "      <td>31165.664</td>\n",
       "    </tr>\n",
       "    <tr>\n",
       "      <th>418977</th>\n",
       "      <td>33590</td>\n",
       "      <td>35271.601</td>\n",
       "    </tr>\n",
       "    <tr>\n",
       "      <th>422894</th>\n",
       "      <td>22487</td>\n",
       "      <td>25629.336</td>\n",
       "    </tr>\n",
       "    <tr>\n",
       "      <th>148680</th>\n",
       "      <td>5995</td>\n",
       "      <td>13702.136</td>\n",
       "    </tr>\n",
       "    <tr>\n",
       "      <th>313938</th>\n",
       "      <td>23995</td>\n",
       "      <td>25754.163</td>\n",
       "    </tr>\n",
       "  </tbody>\n",
       "</table>\n",
       "</div>"
      ],
      "text/plain": [
       "        Actual  Predicted\n",
       "206191   23359  27487.175\n",
       "211426    2395   4038.362\n",
       "372611   27990  30467.434\n",
       "417309   27500  21807.438\n",
       "413079   19581  33475.598\n",
       "340377   27990  31165.664\n",
       "418977   33590  35271.601\n",
       "422894   22487  25629.336\n",
       "148680    5995  13702.136\n",
       "313938   23995  25754.163"
      ]
     },
     "execution_count": 108,
     "metadata": {},
     "output_type": "execute_result"
    }
   ],
   "source": [
    "df_pred_LASSO = pd.DataFrame({'Actual': y_test, 'Predicted': y_pred_LASSO})\n",
    "df_pred_LASSO2 = df_pred_LASSO.head(10)\n",
    "round(df_pred_LASSO2,3)"
   ]
  },
  {
   "cell_type": "code",
   "execution_count": 109,
   "metadata": {},
   "outputs": [
    {
     "data": {
      "text/html": [
       "<div>\n",
       "<style scoped>\n",
       "    .dataframe tbody tr th:only-of-type {\n",
       "        vertical-align: middle;\n",
       "    }\n",
       "\n",
       "    .dataframe tbody tr th {\n",
       "        vertical-align: top;\n",
       "    }\n",
       "\n",
       "    .dataframe thead th {\n",
       "        text-align: right;\n",
       "    }\n",
       "</style>\n",
       "<table border=\"1\" class=\"dataframe\">\n",
       "  <thead>\n",
       "    <tr style=\"text-align: right;\">\n",
       "      <th></th>\n",
       "      <th>Actual</th>\n",
       "      <th>Predicted OLS</th>\n",
       "      <th>Predicted Ridge</th>\n",
       "      <th>Predicted LASSO</th>\n",
       "    </tr>\n",
       "  </thead>\n",
       "  <tbody>\n",
       "    <tr>\n",
       "      <th>206191</th>\n",
       "      <td>23359</td>\n",
       "      <td>27492.125</td>\n",
       "      <td>27492.125</td>\n",
       "      <td>27487.175</td>\n",
       "    </tr>\n",
       "    <tr>\n",
       "      <th>211426</th>\n",
       "      <td>2395</td>\n",
       "      <td>3984.281</td>\n",
       "      <td>3984.281</td>\n",
       "      <td>4038.362</td>\n",
       "    </tr>\n",
       "    <tr>\n",
       "      <th>372611</th>\n",
       "      <td>27990</td>\n",
       "      <td>30497.977</td>\n",
       "      <td>30497.977</td>\n",
       "      <td>30467.434</td>\n",
       "    </tr>\n",
       "    <tr>\n",
       "      <th>417309</th>\n",
       "      <td>27500</td>\n",
       "      <td>21808.817</td>\n",
       "      <td>21808.817</td>\n",
       "      <td>21807.438</td>\n",
       "    </tr>\n",
       "    <tr>\n",
       "      <th>413079</th>\n",
       "      <td>19581</td>\n",
       "      <td>33502.360</td>\n",
       "      <td>33502.360</td>\n",
       "      <td>33475.598</td>\n",
       "    </tr>\n",
       "    <tr>\n",
       "      <th>340377</th>\n",
       "      <td>27990</td>\n",
       "      <td>31188.943</td>\n",
       "      <td>31188.943</td>\n",
       "      <td>31165.664</td>\n",
       "    </tr>\n",
       "    <tr>\n",
       "      <th>418977</th>\n",
       "      <td>33590</td>\n",
       "      <td>35311.380</td>\n",
       "      <td>35311.380</td>\n",
       "      <td>35271.601</td>\n",
       "    </tr>\n",
       "    <tr>\n",
       "      <th>422894</th>\n",
       "      <td>22487</td>\n",
       "      <td>25665.148</td>\n",
       "      <td>25665.148</td>\n",
       "      <td>25629.336</td>\n",
       "    </tr>\n",
       "    <tr>\n",
       "      <th>148680</th>\n",
       "      <td>5995</td>\n",
       "      <td>13717.357</td>\n",
       "      <td>13717.357</td>\n",
       "      <td>13702.136</td>\n",
       "    </tr>\n",
       "    <tr>\n",
       "      <th>313938</th>\n",
       "      <td>23995</td>\n",
       "      <td>25786.614</td>\n",
       "      <td>25786.614</td>\n",
       "      <td>25754.163</td>\n",
       "    </tr>\n",
       "  </tbody>\n",
       "</table>\n",
       "</div>"
      ],
      "text/plain": [
       "        Actual  Predicted OLS  Predicted Ridge  Predicted LASSO\n",
       "206191   23359      27492.125        27492.125        27487.175\n",
       "211426    2395       3984.281         3984.281         4038.362\n",
       "372611   27990      30497.977        30497.977        30467.434\n",
       "417309   27500      21808.817        21808.817        21807.438\n",
       "413079   19581      33502.360        33502.360        33475.598\n",
       "340377   27990      31188.943        31188.943        31165.664\n",
       "418977   33590      35311.380        35311.380        35271.601\n",
       "422894   22487      25665.148        25665.148        25629.336\n",
       "148680    5995      13717.357        13717.357        13702.136\n",
       "313938   23995      25786.614        25786.614        25754.163"
      ]
     },
     "execution_count": 109,
     "metadata": {},
     "output_type": "execute_result"
    }
   ],
   "source": [
    "df_pred_OLS_Ridge_LASSO = pd.DataFrame({'Actual': y_test, 'Predicted OLS': y_pred_OLS, 'Predicted Ridge': y_pred2, 'Predicted LASSO': y_pred_LASSO})\n",
    "df_pred_OLS_Ridge_LASSO2 = df_pred_OLS_Ridge_LASSO.head(10)\n",
    "round(df_pred_OLS_Ridge_LASSO2,3)"
   ]
  },
  {
   "cell_type": "markdown",
   "metadata": {},
   "source": []
  },
  {
   "cell_type": "markdown",
   "metadata": {},
   "source": [
    "# KNN"
   ]
  },
  {
   "cell_type": "code",
   "execution_count": 111,
   "metadata": {},
   "outputs": [
    {
     "name": "stdout",
     "output_type": "stream",
     "text": [
      "RMSE value for k=  1 is: 7919.881312253285\n",
      "RMSE value for k=  2 is: 7368.028880328975\n",
      "RMSE value for k=  3 is: 7280.774300597109\n",
      "RMSE value for k=  4 is: 7278.1614608206355\n",
      "RMSE value for k=  5 is: 7317.8415812162775\n",
      "RMSE value for k=  6 is: 7347.070127878025\n",
      "RMSE value for k=  7 is: 7378.468845125162\n",
      "RMSE value for k=  8 is: 7418.417084336543\n",
      "RMSE value for k=  9 is: 7453.540083997022\n",
      "RMSE value for k=  10 is: 7481.5607013050385\n",
      "RMSE value for k=  11 is: 7505.849151351051\n",
      "RMSE value for k=  12 is: 7529.291991741834\n",
      "RMSE value for k=  13 is: 7553.832124744227\n",
      "RMSE value for k=  14 is: 7580.925305476372\n",
      "RMSE value for k=  15 is: 7604.187297344779\n"
     ]
    }
   ],
   "source": [
    "RMSE_val2 = [] #to store rmse values for different k\n",
    "for k in range(15):\n",
    "    k += 1\n",
    "    model = neighbors.KNeighborsRegressor(n_neighbors = k)\n",
    "\n",
    "    model.fit(X_train, y_train)  #fit the model\n",
    "    pred=model.predict(X_test) #make prediction on test set\n",
    "    error = sqrt(mse(y_test, pred)) #calculate rmse\n",
    "    RMSE_val2.append(error) #store rmse values\n",
    "    print('RMSE value for k= ' , k , 'is:', error)"
   ]
  },
  {
   "cell_type": "code",
   "execution_count": 112,
   "metadata": {},
   "outputs": [
    {
     "data": {
      "text/plain": [
       "<AxesSubplot:>"
      ]
     },
     "execution_count": 112,
     "metadata": {},
     "output_type": "execute_result"
    },
    {
     "data": {
      "image/png": "[encoded data removed]",
      "text/plain": [
       "<Figure size 720x360 with 1 Axes>"
      ]
     },
     "metadata": {},
     "output_type": "display_data"
    }
   ],
   "source": [
    "#plotting the rmse values against k values\n",
    "import seaborn as sns\n",
    "\n",
    "sns.set(font_scale=1.3)\n",
    "\n",
    "curve = pd.DataFrame(RMSE_val2) #elbow curve \n",
    "curve.plot(figsize=(10,5))"
   ]
  },
  {
   "cell_type": "markdown",
   "metadata": {},
   "source": [
    "This means that we can make the best prediction by looking at two to four nearest neighbors of a data point. The number depends on the insight of the researcher."
   ]
  },
  {
   "cell_type": "markdown",
   "metadata": {},
   "source": [
    "**Generating Model for K=4**"
   ]
  },
  {
   "cell_type": "code",
   "execution_count": 113,
   "metadata": {},
   "outputs": [],
   "source": [
    "#Import knearest neighbors Classifier model\n",
    "from sklearn.neighbors import KNeighborsClassifier\n",
    "\n",
    "#Create KNN Classifier\n",
    "KNN = KNeighborsClassifier(n_neighbors=4)\n",
    "\n",
    "#Train the model using the training sets\n",
    "KNN.fit(X_train, y_train)\n",
    "\n",
    "#Predict the response for test dataset\n",
    "y_pred_KNN = KNN.predict(X_test)"
   ]
  },
  {
   "cell_type": "code",
   "execution_count": 114,
   "metadata": {},
   "outputs": [
    {
     "data": {
      "text/plain": [
       "array([18995,  1995, 22590, ..., 14500, 29990,  5500], dtype=int64)"
      ]
     },
     "execution_count": 114,
     "metadata": {},
     "output_type": "execute_result"
    }
   ],
   "source": [
    "y_pred_KNN"
   ]
  },
  {
   "cell_type": "markdown",
   "metadata": {},
   "source": [
    "**Another way of Visualizing the K value**"
   ]
  },
  {
   "cell_type": "code",
   "execution_count": 115,
   "metadata": {},
   "outputs": [
    {
     "data": {
      "text/plain": [
       "array([0.39063037, 0.33056408, 0.30528314, 0.28780105, 0.27554571,\n",
       "       0.26528479, 0.25644059, 0.24824285, 0.24159938, 0.23501093,\n",
       "       0.22972917, 0.22477752])"
      ]
     },
     "execution_count": 115,
     "metadata": {},
     "output_type": "execute_result"
    }
   ],
   "source": [
    "Ks = 13\n",
    "mean_acc = np.zeros((Ks-1))\n",
    "std_acc = np.zeros((Ks-1))\n",
    "\n",
    "for n in range(1,Ks):\n",
    "    \n",
    "    #Train Model and Predict  \n",
    "    neigh = KNeighborsClassifier(n_neighbors = n).fit(X_train,y_train)\n",
    "    yhat=neigh.predict(X_test)\n",
    "    mean_acc[n-1] = metrics.accuracy_score(y_test, yhat)\n",
    "\n",
    "    \n",
    "    std_acc[n-1]=np.std(yhat==y_test)/np.sqrt(yhat.shape[0])\n",
    "\n",
    "mean_acc"
   ]
  },
  {
   "cell_type": "code",
   "execution_count": 116,
   "metadata": {},
   "outputs": [
    {
     "data": {
      "image/png": "[encoded data removed]",
      "text/plain": [
       "<Figure size 432x504 with 1 Axes>"
      ]
     },
     "metadata": {},
     "output_type": "display_data"
    }
   ],
   "source": [
    "plt.plot(range(1,Ks),mean_acc,'g')\n",
    "plt.fill_between(range(1,Ks),mean_acc - 1 * std_acc,mean_acc + 1 * std_acc, alpha=0.10)\n",
    "plt.fill_between(range(1,Ks),mean_acc - 3 * std_acc,mean_acc + 3 * std_acc, alpha=0.10,color=\"green\")\n",
    "plt.legend(('Accuracy ', '+/- 1xstd','+/- 3xstd'))\n",
    "plt.ylabel('Accuracy ')\n",
    "plt.xlabel('Number of Neighbors (K)')\n",
    "plt.tight_layout()\n",
    "plt.show()"
   ]
  },
  {
   "cell_type": "code",
   "execution_count": 117,
   "metadata": {},
   "outputs": [
    {
     "name": "stdout",
     "output_type": "stream",
     "text": [
      "Accuracy: 0.28780105360163954\n"
     ]
    }
   ],
   "source": [
    "# Model Accuracy\n",
    "print(\"Accuracy:\",metrics.accuracy_score(y_test, y_pred_KNN))"
   ]
  },
  {
   "cell_type": "code",
   "execution_count": 118,
   "metadata": {},
   "outputs": [
    {
     "name": "stdout",
     "output_type": "stream",
     "text": [
      "Mean Absolute Error: 4613.79\n",
      "Mean Squared Error: 86795004.02\n",
      "Root Mean Squared Error: 9316.38\n",
      "Accuracy: 28.78 %\n"
     ]
    }
   ],
   "source": [
    "print('Mean Absolute Error:', round(metrics.mean_absolute_error(y_test, y_pred_KNN),2))\n",
    "print('Mean Squared Error:', round(metrics.mean_squared_error(y_test, y_pred_KNN),2))\n",
    "print('Root Mean Squared Error:', round(np.sqrt(metrics.mean_squared_error(y_test, y_pred_KNN)),2))\n",
    "Accuracy = KNN.score(X_test,y_test)\n",
    "print(\"Accuracy:\", round(Accuracy*100,3),'%')"
   ]
  },
  {
   "cell_type": "code",
   "execution_count": 119,
   "metadata": {},
   "outputs": [
    {
     "data": {
      "text/html": [
       "<div>\n",
       "<style scoped>\n",
       "    .dataframe tbody tr th:only-of-type {\n",
       "        vertical-align: middle;\n",
       "    }\n",
       "\n",
       "    .dataframe tbody tr th {\n",
       "        vertical-align: top;\n",
       "    }\n",
       "\n",
       "    .dataframe thead th {\n",
       "        text-align: right;\n",
       "    }\n",
       "</style>\n",
       "<table border=\"1\" class=\"dataframe\">\n",
       "  <thead>\n",
       "    <tr style=\"text-align: right;\">\n",
       "      <th></th>\n",
       "      <th>Actual</th>\n",
       "      <th>Predicted</th>\n",
       "    </tr>\n",
       "  </thead>\n",
       "  <tbody>\n",
       "    <tr>\n",
       "      <th>206191</th>\n",
       "      <td>23359</td>\n",
       "      <td>18995</td>\n",
       "    </tr>\n",
       "    <tr>\n",
       "      <th>211426</th>\n",
       "      <td>2395</td>\n",
       "      <td>1995</td>\n",
       "    </tr>\n",
       "    <tr>\n",
       "      <th>372611</th>\n",
       "      <td>27990</td>\n",
       "      <td>22590</td>\n",
       "    </tr>\n",
       "    <tr>\n",
       "      <th>417309</th>\n",
       "      <td>27500</td>\n",
       "      <td>18500</td>\n",
       "    </tr>\n",
       "    <tr>\n",
       "      <th>413079</th>\n",
       "      <td>19581</td>\n",
       "      <td>22985</td>\n",
       "    </tr>\n",
       "    <tr>\n",
       "      <th>340377</th>\n",
       "      <td>27990</td>\n",
       "      <td>27990</td>\n",
       "    </tr>\n",
       "    <tr>\n",
       "      <th>418977</th>\n",
       "      <td>33590</td>\n",
       "      <td>32990</td>\n",
       "    </tr>\n",
       "    <tr>\n",
       "      <th>422894</th>\n",
       "      <td>22487</td>\n",
       "      <td>22487</td>\n",
       "    </tr>\n",
       "    <tr>\n",
       "      <th>148680</th>\n",
       "      <td>5995</td>\n",
       "      <td>4500</td>\n",
       "    </tr>\n",
       "    <tr>\n",
       "      <th>313938</th>\n",
       "      <td>23995</td>\n",
       "      <td>12895</td>\n",
       "    </tr>\n",
       "  </tbody>\n",
       "</table>\n",
       "</div>"
      ],
      "text/plain": [
       "        Actual  Predicted\n",
       "206191   23359      18995\n",
       "211426    2395       1995\n",
       "372611   27990      22590\n",
       "417309   27500      18500\n",
       "413079   19581      22985\n",
       "340377   27990      27990\n",
       "418977   33590      32990\n",
       "422894   22487      22487\n",
       "148680    5995       4500\n",
       "313938   23995      12895"
      ]
     },
     "execution_count": 119,
     "metadata": {},
     "output_type": "execute_result"
    }
   ],
   "source": [
    "df_pred_KNN = pd.DataFrame({'Actual': y_test, 'Predicted': y_pred_KNN})\n",
    "df_pred_KNN2 = df_pred_KNN.head(10)\n",
    "round(df_pred_KNN2,3)"
   ]
  },
  {
   "cell_type": "code",
   "execution_count": 120,
   "metadata": {},
   "outputs": [
    {
     "data": {
      "text/html": [
       "<div>\n",
       "<style scoped>\n",
       "    .dataframe tbody tr th:only-of-type {\n",
       "        vertical-align: middle;\n",
       "    }\n",
       "\n",
       "    .dataframe tbody tr th {\n",
       "        vertical-align: top;\n",
       "    }\n",
       "\n",
       "    .dataframe thead th {\n",
       "        text-align: right;\n",
       "    }\n",
       "</style>\n",
       "<table border=\"1\" class=\"dataframe\">\n",
       "  <thead>\n",
       "    <tr style=\"text-align: right;\">\n",
       "      <th></th>\n",
       "      <th>Actual</th>\n",
       "      <th>Predicted OLS</th>\n",
       "      <th>Predicted Ridge</th>\n",
       "      <th>Predicted LASSO</th>\n",
       "      <th>Predicted KNN</th>\n",
       "    </tr>\n",
       "  </thead>\n",
       "  <tbody>\n",
       "    <tr>\n",
       "      <th>206191</th>\n",
       "      <td>23359</td>\n",
       "      <td>27492.125</td>\n",
       "      <td>27492.125</td>\n",
       "      <td>27487.175</td>\n",
       "      <td>18995</td>\n",
       "    </tr>\n",
       "    <tr>\n",
       "      <th>211426</th>\n",
       "      <td>2395</td>\n",
       "      <td>3984.281</td>\n",
       "      <td>3984.281</td>\n",
       "      <td>4038.362</td>\n",
       "      <td>1995</td>\n",
       "    </tr>\n",
       "    <tr>\n",
       "      <th>372611</th>\n",
       "      <td>27990</td>\n",
       "      <td>30497.977</td>\n",
       "      <td>30497.977</td>\n",
       "      <td>30467.434</td>\n",
       "      <td>22590</td>\n",
       "    </tr>\n",
       "    <tr>\n",
       "      <th>417309</th>\n",
       "      <td>27500</td>\n",
       "      <td>21808.817</td>\n",
       "      <td>21808.817</td>\n",
       "      <td>21807.438</td>\n",
       "      <td>18500</td>\n",
       "    </tr>\n",
       "    <tr>\n",
       "      <th>413079</th>\n",
       "      <td>19581</td>\n",
       "      <td>33502.360</td>\n",
       "      <td>33502.360</td>\n",
       "      <td>33475.598</td>\n",
       "      <td>22985</td>\n",
       "    </tr>\n",
       "    <tr>\n",
       "      <th>340377</th>\n",
       "      <td>27990</td>\n",
       "      <td>31188.943</td>\n",
       "      <td>31188.943</td>\n",
       "      <td>31165.664</td>\n",
       "      <td>27990</td>\n",
       "    </tr>\n",
       "    <tr>\n",
       "      <th>418977</th>\n",
       "      <td>33590</td>\n",
       "      <td>35311.380</td>\n",
       "      <td>35311.380</td>\n",
       "      <td>35271.601</td>\n",
       "      <td>32990</td>\n",
       "    </tr>\n",
       "    <tr>\n",
       "      <th>422894</th>\n",
       "      <td>22487</td>\n",
       "      <td>25665.148</td>\n",
       "      <td>25665.148</td>\n",
       "      <td>25629.336</td>\n",
       "      <td>22487</td>\n",
       "    </tr>\n",
       "    <tr>\n",
       "      <th>148680</th>\n",
       "      <td>5995</td>\n",
       "      <td>13717.357</td>\n",
       "      <td>13717.357</td>\n",
       "      <td>13702.136</td>\n",
       "      <td>4500</td>\n",
       "    </tr>\n",
       "    <tr>\n",
       "      <th>313938</th>\n",
       "      <td>23995</td>\n",
       "      <td>25786.614</td>\n",
       "      <td>25786.614</td>\n",
       "      <td>25754.163</td>\n",
       "      <td>12895</td>\n",
       "    </tr>\n",
       "  </tbody>\n",
       "</table>\n",
       "</div>"
      ],
      "text/plain": [
       "        Actual  Predicted OLS  Predicted Ridge  Predicted LASSO  Predicted KNN\n",
       "206191   23359      27492.125        27492.125        27487.175          18995\n",
       "211426    2395       3984.281         3984.281         4038.362           1995\n",
       "372611   27990      30497.977        30497.977        30467.434          22590\n",
       "417309   27500      21808.817        21808.817        21807.438          18500\n",
       "413079   19581      33502.360        33502.360        33475.598          22985\n",
       "340377   27990      31188.943        31188.943        31165.664          27990\n",
       "418977   33590      35311.380        35311.380        35271.601          32990\n",
       "422894   22487      25665.148        25665.148        25629.336          22487\n",
       "148680    5995      13717.357        13717.357        13702.136           4500\n",
       "313938   23995      25786.614        25786.614        25754.163          12895"
      ]
     },
     "execution_count": 120,
     "metadata": {},
     "output_type": "execute_result"
    }
   ],
   "source": [
    "df_pred_OLS_Ridge_LASSO_KNN = pd.DataFrame({'Actual': y_test, 'Predicted OLS': y_pred_OLS, 'Predicted Ridge': y_pred2, 'Predicted LASSO': y_pred_LASSO,'Predicted KNN': y_pred_KNN})\n",
    "df_pred_OLS_Ridge_LASSO_KNN2 = df_pred_OLS_Ridge_LASSO_KNN.head(10)\n",
    "round(df_pred_OLS_Ridge_LASSO_KNN2,3)"
   ]
  },
  {
   "cell_type": "markdown",
   "metadata": {},
   "source": []
  },
  {
   "cell_type": "markdown",
   "metadata": {},
   "source": [
    "# XGBOOST"
   ]
  },
  {
   "cell_type": "code",
   "execution_count": 122,
   "metadata": {},
   "outputs": [
    {
     "name": "stdout",
     "output_type": "stream",
     "text": [
      "[21:41:07] WARNING: C:/Users/Administrator/workspace/xgboost-win64_release_1.4.0/src/objective/regression_obj.cu:171: reg:linear is now deprecated in favor of reg:squarederror.\n",
      "RMSE: 9985.195052\n"
     ]
    }
   ],
   "source": [
    "XG_REG = xgb.XGBRegressor(objective ='reg:linear', colsample_bytree = 0.3, learning_rate = 0.1,\n",
    "                max_depth = 5, alpha = 20, n_estimators = 20)\n",
    "XG_REG.fit(X_train,y_train)\n",
    "\n",
    "pred_XGB = XG_REG.predict(X_test)\n",
    "RMSE_XGB = np.sqrt(mse(y_test, pred_XGB))\n",
    "print(\"RMSE: %f\" % (RMSE_XGB))"
   ]
  },
  {
   "cell_type": "code",
   "execution_count": 123,
   "metadata": {},
   "outputs": [
    {
     "name": "stdout",
     "output_type": "stream",
     "text": [
      "[21:41:16] WARNING: C:/Users/Administrator/workspace/xgboost-win64_release_1.4.0/src/objective/regression_obj.cu:171: reg:linear is now deprecated in favor of reg:squarederror.\n"
     ]
    }
   ],
   "source": [
    "# fit model\n",
    "XG_REG = xgb.XGBRegressor(objective ='reg:linear', colsample_bytree = 0.3, learning_rate = 0.1,\n",
    "                max_depth = 5, alpha = 10, n_estimators = 10)\n",
    "\n",
    "XG_REG.fit(X_train,y_train)\n",
    "\n",
    "predictions = XG_REG.predict(X_test)"
   ]
  },
  {
   "cell_type": "code",
   "execution_count": 124,
   "metadata": {},
   "outputs": [
    {
     "name": "stdout",
     "output_type": "stream",
     "text": [
      "Mean Absolute Error: 8489\n",
      "Mean Squared Error: 166749946.662\n",
      "Root Mean Squared Error: 12913.17\n"
     ]
    }
   ],
   "source": [
    "print('Mean Absolute Error:', round(metrics.mean_absolute_error(y_test, predictions),))\n",
    "print('Mean Squared Error:', round(metrics.mean_squared_error(y_test, predictions),3))\n",
    "print('Root Mean Squared Error:', round(np.sqrt(metrics.mean_squared_error(y_test, predictions)),3))"
   ]
  },
  {
   "cell_type": "code",
   "execution_count": 125,
   "metadata": {},
   "outputs": [
    {
     "data": {
      "text/html": [
       "<div>\n",
       "<style scoped>\n",
       "    .dataframe tbody tr th:only-of-type {\n",
       "        vertical-align: middle;\n",
       "    }\n",
       "\n",
       "    .dataframe tbody tr th {\n",
       "        vertical-align: top;\n",
       "    }\n",
       "\n",
       "    .dataframe thead th {\n",
       "        text-align: right;\n",
       "    }\n",
       "</style>\n",
       "<table border=\"1\" class=\"dataframe\">\n",
       "  <thead>\n",
       "    <tr style=\"text-align: right;\">\n",
       "      <th></th>\n",
       "      <th>Actual</th>\n",
       "      <th>Predicted</th>\n",
       "    </tr>\n",
       "  </thead>\n",
       "  <tbody>\n",
       "    <tr>\n",
       "      <th>206191</th>\n",
       "      <td>23359</td>\n",
       "      <td>19362.839844</td>\n",
       "    </tr>\n",
       "    <tr>\n",
       "      <th>211426</th>\n",
       "      <td>2395</td>\n",
       "      <td>5582.981934</td>\n",
       "    </tr>\n",
       "    <tr>\n",
       "      <th>372611</th>\n",
       "      <td>27990</td>\n",
       "      <td>22107.144531</td>\n",
       "    </tr>\n",
       "    <tr>\n",
       "      <th>417309</th>\n",
       "      <td>27500</td>\n",
       "      <td>17327.490234</td>\n",
       "    </tr>\n",
       "    <tr>\n",
       "      <th>413079</th>\n",
       "      <td>19581</td>\n",
       "      <td>27355.292969</td>\n",
       "    </tr>\n",
       "    <tr>\n",
       "      <th>340377</th>\n",
       "      <td>27990</td>\n",
       "      <td>24141.183594</td>\n",
       "    </tr>\n",
       "    <tr>\n",
       "      <th>418977</th>\n",
       "      <td>33590</td>\n",
       "      <td>24434.376953</td>\n",
       "    </tr>\n",
       "    <tr>\n",
       "      <th>422894</th>\n",
       "      <td>22487</td>\n",
       "      <td>20143.759766</td>\n",
       "    </tr>\n",
       "    <tr>\n",
       "      <th>148680</th>\n",
       "      <td>5995</td>\n",
       "      <td>11015.545898</td>\n",
       "    </tr>\n",
       "    <tr>\n",
       "      <th>313938</th>\n",
       "      <td>23995</td>\n",
       "      <td>21595.439453</td>\n",
       "    </tr>\n",
       "  </tbody>\n",
       "</table>\n",
       "</div>"
      ],
      "text/plain": [
       "        Actual     Predicted\n",
       "206191   23359  19362.839844\n",
       "211426    2395   5582.981934\n",
       "372611   27990  22107.144531\n",
       "417309   27500  17327.490234\n",
       "413079   19581  27355.292969\n",
       "340377   27990  24141.183594\n",
       "418977   33590  24434.376953\n",
       "422894   22487  20143.759766\n",
       "148680    5995  11015.545898\n",
       "313938   23995  21595.439453"
      ]
     },
     "execution_count": 125,
     "metadata": {},
     "output_type": "execute_result"
    }
   ],
   "source": [
    "df_pred_XGB = pd.DataFrame({'Actual': y_test, 'Predicted': pred_XGB})\n",
    "df_pred_XGB2 = df_pred_XGB.head(10)\n",
    "round(df_pred_XGB2,3)"
   ]
  },
  {
   "cell_type": "code",
   "execution_count": 126,
   "metadata": {},
   "outputs": [
    {
     "data": {
      "text/html": [
       "<div>\n",
       "<style scoped>\n",
       "    .dataframe tbody tr th:only-of-type {\n",
       "        vertical-align: middle;\n",
       "    }\n",
       "\n",
       "    .dataframe tbody tr th {\n",
       "        vertical-align: top;\n",
       "    }\n",
       "\n",
       "    .dataframe thead th {\n",
       "        text-align: right;\n",
       "    }\n",
       "</style>\n",
       "<table border=\"1\" class=\"dataframe\">\n",
       "  <thead>\n",
       "    <tr style=\"text-align: right;\">\n",
       "      <th></th>\n",
       "      <th>Actual</th>\n",
       "      <th>Predicted OLS</th>\n",
       "      <th>Predicted Ridge</th>\n",
       "      <th>Predicted LASSO</th>\n",
       "      <th>Predicted KNN</th>\n",
       "      <th>Predicted XGB</th>\n",
       "    </tr>\n",
       "  </thead>\n",
       "  <tbody>\n",
       "    <tr>\n",
       "      <th>206191</th>\n",
       "      <td>23359</td>\n",
       "      <td>27492.125</td>\n",
       "      <td>27492.125</td>\n",
       "      <td>27487.175</td>\n",
       "      <td>18995</td>\n",
       "      <td>19362.839844</td>\n",
       "    </tr>\n",
       "    <tr>\n",
       "      <th>211426</th>\n",
       "      <td>2395</td>\n",
       "      <td>3984.281</td>\n",
       "      <td>3984.281</td>\n",
       "      <td>4038.362</td>\n",
       "      <td>1995</td>\n",
       "      <td>5582.981934</td>\n",
       "    </tr>\n",
       "    <tr>\n",
       "      <th>372611</th>\n",
       "      <td>27990</td>\n",
       "      <td>30497.977</td>\n",
       "      <td>30497.977</td>\n",
       "      <td>30467.434</td>\n",
       "      <td>22590</td>\n",
       "      <td>22107.144531</td>\n",
       "    </tr>\n",
       "    <tr>\n",
       "      <th>417309</th>\n",
       "      <td>27500</td>\n",
       "      <td>21808.817</td>\n",
       "      <td>21808.817</td>\n",
       "      <td>21807.438</td>\n",
       "      <td>18500</td>\n",
       "      <td>17327.490234</td>\n",
       "    </tr>\n",
       "    <tr>\n",
       "      <th>413079</th>\n",
       "      <td>19581</td>\n",
       "      <td>33502.360</td>\n",
       "      <td>33502.360</td>\n",
       "      <td>33475.598</td>\n",
       "      <td>22985</td>\n",
       "      <td>27355.292969</td>\n",
       "    </tr>\n",
       "    <tr>\n",
       "      <th>340377</th>\n",
       "      <td>27990</td>\n",
       "      <td>31188.943</td>\n",
       "      <td>31188.943</td>\n",
       "      <td>31165.664</td>\n",
       "      <td>27990</td>\n",
       "      <td>24141.183594</td>\n",
       "    </tr>\n",
       "    <tr>\n",
       "      <th>418977</th>\n",
       "      <td>33590</td>\n",
       "      <td>35311.380</td>\n",
       "      <td>35311.380</td>\n",
       "      <td>35271.601</td>\n",
       "      <td>32990</td>\n",
       "      <td>24434.376953</td>\n",
       "    </tr>\n",
       "    <tr>\n",
       "      <th>422894</th>\n",
       "      <td>22487</td>\n",
       "      <td>25665.148</td>\n",
       "      <td>25665.148</td>\n",
       "      <td>25629.336</td>\n",
       "      <td>22487</td>\n",
       "      <td>20143.759766</td>\n",
       "    </tr>\n",
       "    <tr>\n",
       "      <th>148680</th>\n",
       "      <td>5995</td>\n",
       "      <td>13717.357</td>\n",
       "      <td>13717.357</td>\n",
       "      <td>13702.136</td>\n",
       "      <td>4500</td>\n",
       "      <td>11015.545898</td>\n",
       "    </tr>\n",
       "    <tr>\n",
       "      <th>313938</th>\n",
       "      <td>23995</td>\n",
       "      <td>25786.614</td>\n",
       "      <td>25786.614</td>\n",
       "      <td>25754.163</td>\n",
       "      <td>12895</td>\n",
       "      <td>21595.439453</td>\n",
       "    </tr>\n",
       "  </tbody>\n",
       "</table>\n",
       "</div>"
      ],
      "text/plain": [
       "        Actual  Predicted OLS  Predicted Ridge  Predicted LASSO  \\\n",
       "206191   23359      27492.125        27492.125        27487.175   \n",
       "211426    2395       3984.281         3984.281         4038.362   \n",
       "372611   27990      30497.977        30497.977        30467.434   \n",
       "417309   27500      21808.817        21808.817        21807.438   \n",
       "413079   19581      33502.360        33502.360        33475.598   \n",
       "340377   27990      31188.943        31188.943        31165.664   \n",
       "418977   33590      35311.380        35311.380        35271.601   \n",
       "422894   22487      25665.148        25665.148        25629.336   \n",
       "148680    5995      13717.357        13717.357        13702.136   \n",
       "313938   23995      25786.614        25786.614        25754.163   \n",
       "\n",
       "        Predicted KNN  Predicted XGB  \n",
       "206191          18995   19362.839844  \n",
       "211426           1995    5582.981934  \n",
       "372611          22590   22107.144531  \n",
       "417309          18500   17327.490234  \n",
       "413079          22985   27355.292969  \n",
       "340377          27990   24141.183594  \n",
       "418977          32990   24434.376953  \n",
       "422894          22487   20143.759766  \n",
       "148680           4500   11015.545898  \n",
       "313938          12895   21595.439453  "
      ]
     },
     "execution_count": 126,
     "metadata": {},
     "output_type": "execute_result"
    }
   ],
   "source": [
    "df_pred_OLS_Ridge_LASSO_KNN_XGB = pd.DataFrame({'Actual': y_test, 'Predicted OLS': y_pred_OLS, 'Predicted Ridge': y_pred2, 'Predicted LASSO': y_pred_LASSO,'Predicted KNN': y_pred_KNN, 'Predicted XGB': pred_XGB})\n",
    "df_pred_OLS_Ridge_LASSO_KNN_XGB2 = df_pred_OLS_Ridge_LASSO_KNN_XGB.head(10)\n",
    "round(df_pred_OLS_Ridge_LASSO_KNN_XGB2,3)"
   ]
  },
  {
   "cell_type": "markdown",
   "metadata": {},
   "source": [
    "**Visaualizing the above**"
   ]
  },
  {
   "cell_type": "code",
   "execution_count": 129,
   "metadata": {},
   "outputs": [
    {
     "data": {
      "image/png": "[encoded data removed]",
      "text/plain": [
       "<Figure size 864x864 with 1 Axes>"
      ]
     },
     "metadata": {},
     "output_type": "display_data"
    }
   ],
   "source": [
    "df_pred_OLS_Ridge_LASSO_KNN_XGB2.plot(kind='bar',figsize=(12,12))\n",
    "plt.grid(which='major', linestyle='-', linewidth='0.5', color='green')\n",
    "plt.grid(which='minor', linestyle=':', linewidth='0.5', color='black')\n",
    "plt.show()"
   ]
  },
  {
   "cell_type": "markdown",
   "metadata": {},
   "source": []
  },
  {
   "cell_type": "markdown",
   "metadata": {},
   "source": [
    "<h2>About the Authors:</h2>\n",
    "<a href=\"https://www.linkedin.com/in/john-temidayo-falade-589b16a0/\">John Temidayo Falade</a>  has a Masters in Mathematics, his research focused on using machine learning, data analysis."
   ]
  }
 ],
 "metadata": {
  "kernelspec": {
   "display_name": "Python 3",
   "language": "python",
   "name": "python3"
  },
  "language_info": {
   "codemirror_mode": {
    "name": "ipython",
    "version": 3
   },
   "file_extension": ".py",
   "mimetype": "text/x-python",
   "name": "python",
   "nbconvert_exporter": "python",
   "pygments_lexer": "ipython3",
   "version": "3.8.5"
  }
 },
 "nbformat": 4,
 "nbformat_minor": 4
}
